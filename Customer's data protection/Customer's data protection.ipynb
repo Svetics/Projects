{
 "cells": [
  {
   "cell_type": "markdown",
   "metadata": {},
   "source": [
    "# Защита данных клиентов страховой компании\n",
    "\n",
    "## План выполнения проекта:\n",
    "### 1. Загрузка и предоработка данных.\n",
    "### 2. Ответ на вопрос:  Изменится ли качество линейной регрессии, если признаки умножают на обратимую матрицу.\n",
    "### 3. Алгоритм преобразования и его обоснование.\n",
    "### 4. Проверка алгоритма.\n",
    "### 5. Выводы"
   ]
  },
  {
   "cell_type": "markdown",
   "metadata": {},
   "source": [
    "## 1. Загрузка данных"
   ]
  },
  {
   "cell_type": "markdown",
   "metadata": {},
   "source": [
    "Загрузим и изучим данные:"
   ]
  },
  {
   "cell_type": "code",
   "execution_count": 2,
   "metadata": {},
   "outputs": [],
   "source": [
    "import pandas as pd\n",
    "insurance = pd.read_csv('/datasets/insurance.csv')\n",
    "#insurance"
   ]
  },
  {
   "cell_type": "code",
   "execution_count": 2,
   "metadata": {},
   "outputs": [
    {
     "name": "stdout",
     "output_type": "stream",
     "text": [
      "<class 'pandas.core.frame.DataFrame'>\n",
      "RangeIndex: 5000 entries, 0 to 4999\n",
      "Data columns (total 5 columns):\n",
      "Пол                  5000 non-null int64\n",
      "Возраст              5000 non-null float64\n",
      "Зарплата             5000 non-null float64\n",
      "Члены семьи          5000 non-null int64\n",
      "Страховые выплаты    5000 non-null int64\n",
      "dtypes: float64(2), int64(3)\n",
      "memory usage: 195.4 KB\n"
     ]
    }
   ],
   "source": [
    "insurance.info()"
   ]
  },
  {
   "cell_type": "markdown",
   "metadata": {},
   "source": [
    "В таблице 5 столбцов и 5000 строк с данными.\n",
    "\n",
    "**Признаки** -  пол, возраст и зарплата застрахованного, количество членов его семьи.\n",
    "\n",
    "**Целевой признак** - количество страховых выплат клиенту за последние 5 лет.\n",
    "\n",
    "Пропущенных значений нет. Данные в нужном типе, переводить не надо.\n",
    "\n",
    "Можно проверить на странные значения выбросы, проверить на дубликаты. Названия колонок переделать английскими буквами и перевести в нижний регистр."
   ]
  },
  {
   "cell_type": "markdown",
   "metadata": {},
   "source": [
    "## 2. Умножение матриц"
   ]
  },
  {
   "cell_type": "markdown",
   "metadata": {},
   "source": [
    "#### Ответим на вопрос и обоснуем решение.\n",
    "\n",
    "Признаки умножают на обратимую матрицу. Изменится ли качество линейной регрессии? (Её можно обучить заново.)\n",
    "\n",
    "- a. Изменится. Приведите примеры матриц.\n",
    "- b. Не изменится. Укажите, как связаны параметры линейной регрессии в исходной задаче и в преобразованной."
   ]
  },
  {
   "cell_type": "markdown",
   "metadata": {},
   "source": [
    "**Ответ:** Не изменится.\n",
    "\n",
    "**Обоснование:** \n",
    "\n",
    "Предсказания до умножения на обратимую матрицу:        $\\mathbf{a = Xw}$\n",
    "\n",
    "Формула обучения до умножения на обратимую матрицу:       $\\mathbf{w = (X^T X)^{-1} X^T y}$"
   ]
  },
  {
   "cell_type": "markdown",
   "metadata": {},
   "source": [
    "Предсказания после умножения на обратимую матрицу:        $\\mathbf{\\tilde a = \\tilde X \\tilde w}$\n",
    "\n",
    "Формула обучения после умножения на обратимую матрицу:      $\\mathbf{\\tilde w = (\\tilde X^T \\tilde X)^{-1} \\tilde X^T y}$\n",
    "\n",
    "Матрица признаков, умноженная на обратимую матрицу: $\\mathbf{\\tilde X = XP}$"
   ]
  },
  {
   "cell_type": "markdown",
   "metadata": {},
   "source": [
    "где:\n",
    "\n",
    "- $X$ и $\\tilde X$ — матрица признаков (нулевой столбец состоит из единиц) соответсвенно до умножения на обратимую матрицу и после умножения.\n",
    "\n",
    "- $y$ — вектор целевого признака\n",
    "\n",
    "- $P$ — матрица, на которую умножаются признаки\n",
    "\n",
    "- $w$ и $\\tilde w$ — вектор весов линейной регрессии (нулевой элемент равен сдвигу) соответсвенно до умножения на обратимую матрицу и после умножения."
   ]
  },
  {
   "cell_type": "markdown",
   "metadata": {},
   "source": [
    "Нам нужно проверить выполняется ли равенство: $\\mathbf{a = \\tilde a}$. \n",
    "\n",
    "Для этого запишем формулу в развенутом виде:\n",
    "\n",
    "$\\tilde a = \\tilde X \\tilde w =  \\tilde X (\\tilde X^T \\tilde X)^{-1} \\tilde X^T y $\n",
    "\n",
    "$a = Xw = X(X^T X)^{-1} X^T y $"
   ]
  },
  {
   "cell_type": "markdown",
   "metadata": {},
   "source": [
    "Сделаем преобразования:"
   ]
  },
  {
   "cell_type": "markdown",
   "metadata": {},
   "source": [
    "$\\tilde a = \\tilde X \\tilde w = \\tilde X (\\tilde X^T \\tilde X)^{-1} \\tilde X^T y =$\n",
    "\n",
    "$= XP((XP)^T(XP))^{-1}(XP)^Ty = XP(XP)^{-1}((XP)^T)^{-1}P^TX^Ty =$\n",
    "\n",
    "$= XPP^{-1}X^{-1}(P^TX^T)^{-1}P^TX^Ty = XEX^{-1}(X^T)^{-1}(P^T)^{-1}P^TX^Ty=$\n",
    "\n",
    "$ = XX^{-1}(X^T)^{-1}X^Ty = X(X^TX)^{-1}X^Ty = a$"
   ]
  },
  {
   "cell_type": "markdown",
   "metadata": {},
   "source": [
    "Видим, что при умножении матрицы признаков на обратимую матрицу, предсказания остаются такими же, как и до умножения на обратимую матрицу. Мы доказали, что $\\mathbf{a = \\tilde a}$.  Значит качество линейной регрессии не должно измениться."
   ]
  },
  {
   "cell_type": "markdown",
   "metadata": {},
   "source": [
    "Параметры линейной регрессии в исходной задаче и в преобразованной связаны следующим образом:"
   ]
  },
  {
   "cell_type": "markdown",
   "metadata": {},
   "source": [
    "$\\tilde a = \\tilde X \\tilde w = XP \\tilde w = Xw = a $"
   ]
  },
  {
   "cell_type": "markdown",
   "metadata": {},
   "source": [
    "$XP \\tilde w = Xw$ $\\ \\ $ $\\ \\ $ $\\Rightarrow $  $\\ \\ $ $\\ \\ $ $\\tilde w = X^{-1}XP^{-1}w$  $\\ \\ $ $\\ \\ $ $\\Rightarrow$ $\\ \\ $ $\\ \\ $  $\\tilde w = P^{-1}w$ "
   ]
  },
  {
   "cell_type": "markdown",
   "metadata": {},
   "source": [
    "Вектор весов в преобразованной задаче равен умножению обратной к P матрице на вектор весов в исходной задаче."
   ]
  },
  {
   "cell_type": "markdown",
   "metadata": {},
   "source": [
    "## 3. Алгоритм преобразования"
   ]
  },
  {
   "cell_type": "markdown",
   "metadata": {},
   "source": [
    "**Алгоритм**\n",
    "\n",
    "Для защиты данных клиентов страховой компании применим умножение матрицы признаков на обратимую матрицу."
   ]
  },
  {
   "cell_type": "markdown",
   "metadata": {},
   "source": [
    "**Обоснование**\n",
    "\n",
    "Нам нужно разработать такой метод преобразования данных, чтобы по ним было сложно восстановить персональную информацию и при этом при преобразовании качество моделей машинного обучения не ухудшилось.\n",
    "Из прошлого задания мы поняли, что при умножнии матрицы признаков на обратимую матрицу, качество линейной регрессии не изменяется, это значит, что для преобразования данных подходит такой метод. "
   ]
  },
  {
   "cell_type": "markdown",
   "metadata": {},
   "source": [
    "## 4. Проверка алгоритма"
   ]
  },
  {
   "cell_type": "markdown",
   "metadata": {},
   "source": [
    "Запрограммируем этот алгоритм, применив матричные операции. "
   ]
  },
  {
   "cell_type": "code",
   "execution_count": 3,
   "metadata": {},
   "outputs": [],
   "source": [
    "import numpy as np\n",
    "from sklearn.metrics import mean_squared_error\n",
    "from sklearn.metrics import r2_score"
   ]
  },
  {
   "cell_type": "code",
   "execution_count": 4,
   "metadata": {},
   "outputs": [],
   "source": [
    "features = insurance.drop('Страховые выплаты', axis=1)\n",
    "target = insurance['Страховые выплаты']"
   ]
  },
  {
   "cell_type": "code",
   "execution_count": 5,
   "metadata": {},
   "outputs": [],
   "source": [
    "class LinearRegression:\n",
    "    def fit(self, train_features, train_target):\n",
    "        X = np.concatenate((np.ones((train_features.shape[0], 1)), train_features), axis=1)\n",
    "        y = train_target\n",
    "        w = ((np.linalg.inv(X.T @ X))@ X.T) @ y\n",
    "        self.w = w[1:]\n",
    "        self.w0 = w[0]\n",
    "    def predict(self, test_features):\n",
    "        return test_features.dot(self.w) + self.w0"
   ]
  },
  {
   "cell_type": "markdown",
   "metadata": {},
   "source": [
    "##### До преобразования:"
   ]
  },
  {
   "cell_type": "code",
   "execution_count": 6,
   "metadata": {},
   "outputs": [
    {
     "data": {
      "text/plain": [
       "0.4249455028666801"
      ]
     },
     "execution_count": 6,
     "metadata": {},
     "output_type": "execute_result"
    }
   ],
   "source": [
    "model = LinearRegression()\n",
    "model.fit(features, target)\n",
    "predictions = model.predict(features)\n",
    "r2_score(target, predictions)"
   ]
  },
  {
   "cell_type": "markdown",
   "metadata": {},
   "source": [
    "##### После преобразования:\n",
    "\n",
    "Создадим произвольную обратимую матрицу размера  4 на 4:"
   ]
  },
  {
   "cell_type": "code",
   "execution_count": 7,
   "metadata": {},
   "outputs": [],
   "source": [
    "P = np.random.normal(size=(4,4))"
   ]
  },
  {
   "cell_type": "markdown",
   "metadata": {},
   "source": [
    "Убедимся в обратимости матрицы:"
   ]
  },
  {
   "cell_type": "code",
   "execution_count": 8,
   "metadata": {},
   "outputs": [],
   "source": [
    " P_inv = np.linalg.inv(P) "
   ]
  },
  {
   "cell_type": "markdown",
   "metadata": {},
   "source": [
    "При умножениии матрицы на обратную ей должна получиться единичная матрица."
   ]
  },
  {
   "cell_type": "code",
   "execution_count": 9,
   "metadata": {},
   "outputs": [],
   "source": [
    "E = P @ P_inv"
   ]
  },
  {
   "cell_type": "code",
   "execution_count": 11,
   "metadata": {},
   "outputs": [
    {
     "data": {
      "text/html": [
       "<div>\n",
       "<style scoped>\n",
       "    .dataframe tbody tr th:only-of-type {\n",
       "        vertical-align: middle;\n",
       "    }\n",
       "\n",
       "    .dataframe tbody tr th {\n",
       "        vertical-align: top;\n",
       "    }\n",
       "\n",
       "    .dataframe thead th {\n",
       "        text-align: right;\n",
       "    }\n",
       "</style>\n",
       "<table border=\"1\" class=\"dataframe\">\n",
       "  <thead>\n",
       "    <tr style=\"text-align: right;\">\n",
       "      <th></th>\n",
       "      <th>0</th>\n",
       "      <th>1</th>\n",
       "      <th>2</th>\n",
       "      <th>3</th>\n",
       "    </tr>\n",
       "  </thead>\n",
       "  <tbody>\n",
       "    <tr>\n",
       "      <td>0</td>\n",
       "      <td>1.000000e+00</td>\n",
       "      <td>-2.567428e-17</td>\n",
       "      <td>2.164030e-17</td>\n",
       "      <td>2.358582e-17</td>\n",
       "    </tr>\n",
       "    <tr>\n",
       "      <td>1</td>\n",
       "      <td>5.611908e-16</td>\n",
       "      <td>1.000000e+00</td>\n",
       "      <td>-2.792183e-18</td>\n",
       "      <td>-7.602829e-18</td>\n",
       "    </tr>\n",
       "    <tr>\n",
       "      <td>2</td>\n",
       "      <td>-2.437962e-16</td>\n",
       "      <td>5.528889e-17</td>\n",
       "      <td>1.000000e+00</td>\n",
       "      <td>2.328160e-17</td>\n",
       "    </tr>\n",
       "    <tr>\n",
       "      <td>3</td>\n",
       "      <td>-1.480655e-15</td>\n",
       "      <td>-2.155467e-16</td>\n",
       "      <td>-1.076970e-16</td>\n",
       "      <td>1.000000e+00</td>\n",
       "    </tr>\n",
       "  </tbody>\n",
       "</table>\n",
       "</div>"
      ],
      "text/plain": [
       "              0             1             2             3\n",
       "0  1.000000e+00 -2.567428e-17  2.164030e-17  2.358582e-17\n",
       "1  5.611908e-16  1.000000e+00 -2.792183e-18 -7.602829e-18\n",
       "2 -2.437962e-16  5.528889e-17  1.000000e+00  2.328160e-17\n",
       "3 -1.480655e-15 -2.155467e-16 -1.076970e-16  1.000000e+00"
      ]
     },
     "execution_count": 11,
     "metadata": {},
     "output_type": "execute_result"
    }
   ],
   "source": [
    "pd.DataFrame(E)"
   ]
  },
  {
   "cell_type": "markdown",
   "metadata": {},
   "source": [
    "Действительно, получилась единичная матрица, значит сможем дешифровать."
   ]
  },
  {
   "cell_type": "markdown",
   "metadata": {},
   "source": [
    "Преобразуем матрицу признаков:"
   ]
  },
  {
   "cell_type": "code",
   "execution_count": 12,
   "metadata": {},
   "outputs": [],
   "source": [
    "features_changed = features @ P"
   ]
  },
  {
   "cell_type": "code",
   "execution_count": 13,
   "metadata": {},
   "outputs": [
    {
     "data": {
      "text/plain": [
       "0.42494550131084774"
      ]
     },
     "execution_count": 13,
     "metadata": {},
     "output_type": "execute_result"
    }
   ],
   "source": [
    "model = LinearRegression()\n",
    "model.fit(features_changed, target)\n",
    "predictions_changed = model.predict(features_changed)\n",
    "r2_score(target, predictions_changed)"
   ]
  },
  {
   "cell_type": "markdown",
   "metadata": {},
   "source": [
    "Видим, что качество модели до преобазования и после преобразования совпадает.\n",
    "\n",
    "Проверим, что качество линейной регрессии из sklearn не отличается до и после преобразования, применим метрику R2."
   ]
  },
  {
   "cell_type": "code",
   "execution_count": 14,
   "metadata": {},
   "outputs": [],
   "source": [
    "from sklearn.linear_model import LinearRegression"
   ]
  },
  {
   "cell_type": "markdown",
   "metadata": {},
   "source": [
    "##### До преобразования:"
   ]
  },
  {
   "cell_type": "code",
   "execution_count": 15,
   "metadata": {},
   "outputs": [
    {
     "data": {
      "text/plain": [
       "0.42494550286668"
      ]
     },
     "execution_count": 15,
     "metadata": {},
     "output_type": "execute_result"
    }
   ],
   "source": [
    "model = LinearRegression()\n",
    "model.fit(features, target)\n",
    "model.predict(features)\n",
    "r2_score(target, model.predict(features))"
   ]
  },
  {
   "cell_type": "markdown",
   "metadata": {},
   "source": [
    "##### После преобразования:"
   ]
  },
  {
   "cell_type": "code",
   "execution_count": 16,
   "metadata": {},
   "outputs": [
    {
     "data": {
      "text/plain": [
       "0.4249455028666771"
      ]
     },
     "execution_count": 16,
     "metadata": {},
     "output_type": "execute_result"
    }
   ],
   "source": [
    "model = LinearRegression()\n",
    "model.fit(features_changed, target)\n",
    "model.predict(features_changed)\n",
    "r2_score(target, model.predict(features_changed))"
   ]
  },
  {
   "cell_type": "markdown",
   "metadata": {},
   "source": [
    "Получили тоже самое."
   ]
  },
  {
   "cell_type": "markdown",
   "metadata": {},
   "source": [
    "## 5. Выводы:\n",
    "Задачей данного проекта была защита данных клиентов страховой компании. При преобразовании качество моделей машинного обучения не должно ухудшиться.\n",
    "Был разработан такой метод преобразования данных, чтобы по ним было сложно восстановить персональную информацию. Была обоснована корректность его работы."
   ]
  },
  {
   "cell_type": "code",
   "execution_count": null,
   "metadata": {},
   "outputs": [],
   "source": []
  }
 ],
 "metadata": {
  "kernelspec": {
   "display_name": "Python 3",
   "language": "python",
   "name": "python3"
  },
  "language_info": {
   "codemirror_mode": {
    "name": "ipython",
    "version": 3
   },
   "file_extension": ".py",
   "mimetype": "text/x-python",
   "name": "python",
   "nbconvert_exporter": "python",
   "pygments_lexer": "ipython3",
   "version": "3.7.6"
  }
 },
 "nbformat": 4,
 "nbformat_minor": 2
}
