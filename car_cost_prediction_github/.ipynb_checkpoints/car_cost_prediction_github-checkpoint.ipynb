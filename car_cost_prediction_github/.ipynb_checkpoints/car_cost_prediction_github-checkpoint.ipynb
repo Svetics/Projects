{
 "cells": [
  {
   "cell_type": "markdown",
   "metadata": {},
   "source": [
    "# 1. План выполнения проекта:\n",
    "\n",
    "* **Предоработка данных.**\n",
    "* **Построение и обучение моделей.**\n",
    "* **Проведение анализа скорости работы и качества моделей. Выбор лучшей модели.**\n",
    "* **Проверка модели на адекватность.**\n",
    "* **Вывод**"
   ]
  },
  {
   "cell_type": "markdown",
   "metadata": {},
   "source": [
    "# 1. Подготовка данных"
   ]
  },
  {
   "cell_type": "markdown",
   "metadata": {},
   "source": [
    "### Загрузим данные:"
   ]
  },
  {
   "cell_type": "code",
   "execution_count": 1,
   "metadata": {},
   "outputs": [],
   "source": [
    "import pandas as pd"
   ]
  },
  {
   "cell_type": "code",
   "execution_count": 2,
   "metadata": {},
   "outputs": [],
   "source": [
    "data = pd.read_csv('/datasets/autos.csv')"
   ]
  },
  {
   "cell_type": "code",
   "execution_count": 1,
   "metadata": {},
   "outputs": [],
   "source": [
    "#data"
   ]
  },
  {
   "cell_type": "code",
   "execution_count": 2,
   "metadata": {},
   "outputs": [],
   "source": [
    "#data.info()"
   ]
  },
  {
   "cell_type": "markdown",
   "metadata": {},
   "source": [
    "**1.** Мы имеем таблицу, в которой 354369 строк и 16 столбцов.\n",
    "\n",
    "**2.** Есть пропуски в столбцах: 'VehicleType', 'Gearbox', 'Model', 'FuelType', 'NotRepaired'. Пропусков достаточно много, надо посмотреть сколько их в % и подумать что с ними делать.\n",
    "\n",
    "**3.** Надо перевести названия столбцов в нижний регистр для порядка.\n",
    "\n",
    "**4.** Проверить на дубликаты.\n",
    "\n",
    "**5.** Проверить на выбросы и артефакты.\n",
    "\n",
    "**6.** Перевести данные в нужный тип: 'DateCrawled', 'DateCreated', 'LastSeen' или удалить эти столбцы, если они не нужны.     \n",
    "\n",
    "**7.** Удалить не нужные столбцы."
   ]
  },
  {
   "cell_type": "markdown",
   "metadata": {},
   "source": [
    "### Подготовим данные:"
   ]
  },
  {
   "cell_type": "markdown",
   "metadata": {},
   "source": [
    "###### Приведем названия столбцов к нижнему регистру и добавим разделитель _ между словами:"
   ]
  },
  {
   "cell_type": "code",
   "execution_count": 3,
   "metadata": {},
   "outputs": [
    {
     "data": {
      "text/plain": [
       "Index(['datecrawled', 'price', 'vehicletype', 'registrationyear', 'gearbox',\n",
       "       'power', 'model', 'kilometer', 'registrationmonth', 'fueltype', 'brand',\n",
       "       'notrepaired', 'datecreated', 'numberofpictures', 'postalcode',\n",
       "       'lastseen'],\n",
       "      dtype='object')"
      ]
     },
     "execution_count": 3,
     "metadata": {},
     "output_type": "execute_result"
    }
   ],
   "source": [
    "data.columns = map(str.lower, data.columns)\n",
    "data.columns "
   ]
  },
  {
   "cell_type": "code",
   "execution_count": 4,
   "metadata": {},
   "outputs": [],
   "source": [
    "data.columns = ['date_crawled', 'price', 'vehicle_type', 'registration_year', 'gearbox',\n",
    "       'power', 'model', 'kilometer', 'registration_month', 'fuel_type', 'brand',\n",
    "       'not_repaired', 'date_created', 'number_of_pictures', 'postal_code',\n",
    "       'last_seen']"
   ]
  },
  {
   "cell_type": "markdown",
   "metadata": {},
   "source": [
    "Посмотрим, что получилось:"
   ]
  },
  {
   "cell_type": "code",
   "execution_count": 3,
   "metadata": {},
   "outputs": [],
   "source": [
    "#data.head()"
   ]
  },
  {
   "cell_type": "markdown",
   "metadata": {},
   "source": [
    "##### Проверим как много пропущенных значений:"
   ]
  },
  {
   "cell_type": "code",
   "execution_count": 8,
   "metadata": {},
   "outputs": [
    {
     "data": {
      "text/html": [
       "<div>\n",
       "<style scoped>\n",
       "    .dataframe tbody tr th:only-of-type {\n",
       "        vertical-align: middle;\n",
       "    }\n",
       "\n",
       "    .dataframe tbody tr th {\n",
       "        vertical-align: top;\n",
       "    }\n",
       "\n",
       "    .dataframe thead th {\n",
       "        text-align: right;\n",
       "    }\n",
       "</style>\n",
       "<table border=\"1\" class=\"dataframe\">\n",
       "  <thead>\n",
       "    <tr style=\"text-align: right;\">\n",
       "      <th></th>\n",
       "      <th>NaN_qty</th>\n",
       "      <th>NaN_%</th>\n",
       "    </tr>\n",
       "  </thead>\n",
       "  <tbody>\n",
       "    <tr>\n",
       "      <td>vehicle_type</td>\n",
       "      <td>37490</td>\n",
       "      <td>10.6</td>\n",
       "    </tr>\n",
       "    <tr>\n",
       "      <td>gearbox</td>\n",
       "      <td>19833</td>\n",
       "      <td>5.6</td>\n",
       "    </tr>\n",
       "    <tr>\n",
       "      <td>model</td>\n",
       "      <td>19705</td>\n",
       "      <td>5.6</td>\n",
       "    </tr>\n",
       "    <tr>\n",
       "      <td>fuel_type</td>\n",
       "      <td>32895</td>\n",
       "      <td>9.3</td>\n",
       "    </tr>\n",
       "    <tr>\n",
       "      <td>not_repaired</td>\n",
       "      <td>71154</td>\n",
       "      <td>20.1</td>\n",
       "    </tr>\n",
       "  </tbody>\n",
       "</table>\n",
       "</div>"
      ],
      "text/plain": [
       "              NaN_qty  NaN_%\n",
       "vehicle_type    37490   10.6\n",
       "gearbox         19833    5.6\n",
       "model           19705    5.6\n",
       "fuel_type       32895    9.3\n",
       "not_repaired    71154   20.1"
      ]
     },
     "execution_count": 8,
     "metadata": {},
     "output_type": "execute_result"
    }
   ],
   "source": [
    "nan = pd.DataFrame(index=['vehicle_type','gearbox', 'model', 'fuel_type', 'not_repaired'])\n",
    "nan['NaN_qty'] = [data['vehicle_type'].isna().sum(), data['gearbox'].isna().sum(), \n",
    "                  data['model'].isna().sum(), data['fuel_type'].isna().sum(), data['not_repaired'].isna().sum()]\n",
    "nan['NaN_%'] = [data['vehicle_type'].isna().sum() * 100  / len(data),\n",
    "            data['gearbox'].isna().sum() * 100  / len(data),\n",
    "            data['model'].isna().sum() * 100  / len(data),\n",
    "            data['fuel_type'].isna().sum() * 100  / len(data),\n",
    "            data['not_repaired'].isna().sum() * 100  / len(data)]\n",
    "nan['NaN_%'] = nan['NaN_%'].round(1)\n",
    "nan"
   ]
  },
  {
   "cell_type": "markdown",
   "metadata": {},
   "source": [
    "Удалим пропущенные значения в столбцах 'vehicle_type', 'gearbox', 'model', 'fuel_type', так как их не очень много, а в столбце 'not_repaired' пропусков достаточно много, попробуем их оставить и перевести NaN в строку, чтобы получилась отдельная категория, когда не известно была ли машина в ремонте."
   ]
  },
  {
   "cell_type": "code",
   "execution_count": 9,
   "metadata": {},
   "outputs": [],
   "source": [
    "#data = data.dropna(subset = ['vehicle_type','gearbox','model', 'fuel_type']).copy()"
   ]
  },
  {
   "cell_type": "code",
   "execution_count": 10,
   "metadata": {},
   "outputs": [],
   "source": [
    "#data['not_repaired'] = data['not_repaired'].astype(str).copy()"
   ]
  },
  {
   "cell_type": "code",
   "execution_count": 5,
   "metadata": {},
   "outputs": [],
   "source": [
    "data = data.dropna(subset = ['vehicle_type','gearbox','model', 'fuel_type'])"
   ]
  },
  {
   "cell_type": "code",
   "execution_count": 12,
   "metadata": {},
   "outputs": [
    {
     "name": "stderr",
     "output_type": "stream",
     "text": [
      "/opt/conda/lib/python3.7/site-packages/ipykernel_launcher.py:1: SettingWithCopyWarning: \n",
      "A value is trying to be set on a copy of a slice from a DataFrame.\n",
      "Try using .loc[row_indexer,col_indexer] = value instead\n",
      "\n",
      "See the caveats in the documentation: http://pandas.pydata.org/pandas-docs/stable/user_guide/indexing.html#returning-a-view-versus-a-copy\n",
      "  \"\"\"Entry point for launching an IPython kernel.\n"
     ]
    }
   ],
   "source": [
    "data['not_repaired'] = data['not_repaired'].astype(str)"
   ]
  },
  {
   "cell_type": "markdown",
   "metadata": {},
   "source": [
    "##### Удалим ненужные столбцы:"
   ]
  },
  {
   "cell_type": "code",
   "execution_count": 13,
   "metadata": {},
   "outputs": [],
   "source": [
    "data = data.drop(['date_crawled', 'date_created', 'last_seen'], axis=1)"
   ]
  },
  {
   "cell_type": "markdown",
   "metadata": {},
   "source": [
    "Дата скачивания анкеты из базы, дата создания анкеты, дата последней активности пользователя не влияют на цену машины, поэтому я их удалила."
   ]
  },
  {
   "cell_type": "markdown",
   "metadata": {},
   "source": [
    "##### Проверим на дубликаты:"
   ]
  },
  {
   "cell_type": "code",
   "execution_count": 14,
   "metadata": {},
   "outputs": [
    {
     "data": {
      "text/plain": [
       "18870"
      ]
     },
     "execution_count": 14,
     "metadata": {},
     "output_type": "execute_result"
    }
   ],
   "source": [
    "data.duplicated().sum()"
   ]
  },
  {
   "cell_type": "markdown",
   "metadata": {},
   "source": [
    "Удалим дубликаты:"
   ]
  },
  {
   "cell_type": "code",
   "execution_count": 15,
   "metadata": {},
   "outputs": [],
   "source": [
    "data = data.drop_duplicates().reset_index(drop = True).copy()"
   ]
  },
  {
   "cell_type": "markdown",
   "metadata": {},
   "source": [
    "#### Проверим признаки на выбросы и аномальные значения:"
   ]
  },
  {
   "cell_type": "markdown",
   "metadata": {},
   "source": [
    "###### Тип топлива:"
   ]
  },
  {
   "cell_type": "code",
   "execution_count": 16,
   "metadata": {},
   "outputs": [
    {
     "data": {
      "text/plain": [
       "petrol      177583\n",
       "gasoline     82585\n",
       "lpg           4284\n",
       "cng            462\n",
       "hybrid         186\n",
       "other           98\n",
       "electric        58\n",
       "Name: fuel_type, dtype: int64"
      ]
     },
     "execution_count": 16,
     "metadata": {},
     "output_type": "execute_result"
    }
   ],
   "source": [
    "data['fuel_type'].value_counts()"
   ]
  },
  {
   "cell_type": "markdown",
   "metadata": {},
   "source": [
    "Тип топлива **petrol** и **gasoline** это одно и тоже -  бензин, объединим в одно название - petrol."
   ]
  },
  {
   "cell_type": "code",
   "execution_count": 17,
   "metadata": {},
   "outputs": [],
   "source": [
    "data = data.replace('gasoline', 'petrol')"
   ]
  },
  {
   "cell_type": "markdown",
   "metadata": {},
   "source": [
    "Проверим:"
   ]
  },
  {
   "cell_type": "code",
   "execution_count": 18,
   "metadata": {},
   "outputs": [
    {
     "data": {
      "text/plain": [
       "petrol      260168\n",
       "lpg           4284\n",
       "cng            462\n",
       "hybrid         186\n",
       "other           98\n",
       "electric        58\n",
       "Name: fuel_type, dtype: int64"
      ]
     },
     "execution_count": 18,
     "metadata": {},
     "output_type": "execute_result"
    }
   ],
   "source": [
    "data['fuel_type'].value_counts()"
   ]
  },
  {
   "cell_type": "markdown",
   "metadata": {},
   "source": [
    "###### Проверим столбцы 'not_repaired' ,  'gearbox' ,  'model' ,  'vehicle_type' ,  'registration_month' ,  'brand':"
   ]
  },
  {
   "cell_type": "code",
   "execution_count": 19,
   "metadata": {
    "scrolled": true
   },
   "outputs": [
    {
     "data": {
      "text/plain": [
       "no     202084\n",
       "nan     36562\n",
       "yes     26610\n",
       "Name: not_repaired, dtype: int64"
      ]
     },
     "execution_count": 19,
     "metadata": {},
     "output_type": "execute_result"
    }
   ],
   "source": [
    "data['not_repaired'].value_counts()"
   ]
  },
  {
   "cell_type": "code",
   "execution_count": 20,
   "metadata": {},
   "outputs": [
    {
     "data": {
      "text/plain": [
       "manual    211500\n",
       "auto       53756\n",
       "Name: gearbox, dtype: int64"
      ]
     },
     "execution_count": 20,
     "metadata": {},
     "output_type": "execute_result"
    }
   ],
   "source": [
    "data['gearbox'].value_counts()"
   ]
  },
  {
   "cell_type": "code",
   "execution_count": 21,
   "metadata": {},
   "outputs": [
    {
     "data": {
      "text/plain": [
       "golf                  21990\n",
       "other                 20128\n",
       "3er                   16254\n",
       "polo                   9905\n",
       "corsa                  9361\n",
       "                      ...  \n",
       "kalina                    5\n",
       "serie_3                   3\n",
       "rangerover                3\n",
       "serie_1                   1\n",
       "range_rover_evoque        1\n",
       "Name: model, Length: 250, dtype: int64"
      ]
     },
     "execution_count": 21,
     "metadata": {},
     "output_type": "execute_result"
    }
   ],
   "source": [
    "data['model'].value_counts()"
   ]
  },
  {
   "cell_type": "code",
   "execution_count": 22,
   "metadata": {
    "scrolled": true
   },
   "outputs": [
    {
     "data": {
      "text/plain": [
       "sedan          77500\n",
       "small          65447\n",
       "wagon          54911\n",
       "bus            24739\n",
       "convertible    16947\n",
       "coupe          13490\n",
       "suv             9818\n",
       "other           2404\n",
       "Name: vehicle_type, dtype: int64"
      ]
     },
     "execution_count": 22,
     "metadata": {},
     "output_type": "execute_result"
    }
   ],
   "source": [
    "data['vehicle_type'].value_counts()"
   ]
  },
  {
   "cell_type": "code",
   "execution_count": 23,
   "metadata": {},
   "outputs": [
    {
     "data": {
      "text/plain": [
       "volkswagen       56404\n",
       "bmw              29044\n",
       "opel             28871\n",
       "mercedes_benz    25604\n",
       "audi             23042\n",
       "ford             18787\n",
       "renault          12943\n",
       "peugeot           8268\n",
       "fiat              6986\n",
       "seat              5194\n",
       "skoda             4544\n",
       "mazda             4277\n",
       "citroen           3978\n",
       "toyota            3777\n",
       "nissan            3766\n",
       "smart             3533\n",
       "hyundai           2829\n",
       "mini              2681\n",
       "volvo             2584\n",
       "mitsubishi        2289\n",
       "honda             2107\n",
       "kia               1915\n",
       "suzuki            1780\n",
       "alfa_romeo        1780\n",
       "chevrolet         1385\n",
       "chrysler          1114\n",
       "dacia              735\n",
       "subaru             587\n",
       "daihatsu           580\n",
       "porsche            578\n",
       "jeep               545\n",
       "land_rover         450\n",
       "jaguar             425\n",
       "saab               425\n",
       "daewoo             383\n",
       "lancia             336\n",
       "rover              305\n",
       "trabant            266\n",
       "lada               159\n",
       "Name: brand, dtype: int64"
      ]
     },
     "execution_count": 23,
     "metadata": {},
     "output_type": "execute_result"
    }
   ],
   "source": [
    "data['brand'].value_counts()"
   ]
  },
  {
   "cell_type": "markdown",
   "metadata": {},
   "source": [
    "Здесь ничего необычного."
   ]
  },
  {
   "cell_type": "code",
   "execution_count": 24,
   "metadata": {
    "scrolled": true
   },
   "outputs": [
    {
     "data": {
      "text/plain": [
       "3     27705\n",
       "6     24845\n",
       "4     23366\n",
       "5     22986\n",
       "7     21655\n",
       "10    20710\n",
       "12    19185\n",
       "9     19108\n",
       "11    19030\n",
       "1     18327\n",
       "8     17906\n",
       "2     17050\n",
       "0     13383\n",
       "Name: registration_month, dtype: int64"
      ]
     },
     "execution_count": 24,
     "metadata": {},
     "output_type": "execute_result"
    }
   ],
   "source": [
    "data['registration_month'].value_counts()"
   ]
  },
  {
   "cell_type": "markdown",
   "metadata": {},
   "source": [
    "Удалим строки с нулевым месяцем: "
   ]
  },
  {
   "cell_type": "code",
   "execution_count": 25,
   "metadata": {},
   "outputs": [],
   "source": [
    "data = data[data['registration_month'] > 0]"
   ]
  },
  {
   "cell_type": "markdown",
   "metadata": {},
   "source": [
    "##### Проверим столбец с количеством фотографий:"
   ]
  },
  {
   "cell_type": "code",
   "execution_count": 26,
   "metadata": {},
   "outputs": [
    {
     "data": {
      "text/plain": [
       "0    251873\n",
       "Name: number_of_pictures, dtype: int64"
      ]
     },
     "execution_count": 26,
     "metadata": {},
     "output_type": "execute_result"
    }
   ],
   "source": [
    "data['number_of_pictures'].value_counts()"
   ]
  },
  {
   "cell_type": "markdown",
   "metadata": {},
   "source": [
    "Все значения равны 0, значит этот столбец можно удалить."
   ]
  },
  {
   "cell_type": "code",
   "execution_count": 27,
   "metadata": {},
   "outputs": [],
   "source": [
    "data = data.drop(['number_of_pictures'], axis=1)"
   ]
  },
  {
   "cell_type": "markdown",
   "metadata": {},
   "source": [
    "##### Проверим на выбросы цену продажи:"
   ]
  },
  {
   "cell_type": "code",
   "execution_count": 28,
   "metadata": {},
   "outputs": [
    {
     "data": {
      "text/plain": [
       "count    251873.00\n",
       "mean       4952.50\n",
       "std        4662.11\n",
       "min           0.00\n",
       "25%        1399.00\n",
       "50%        3300.00\n",
       "75%        7150.00\n",
       "max       20000.00\n",
       "Name: price, dtype: float64"
      ]
     },
     "execution_count": 28,
     "metadata": {},
     "output_type": "execute_result"
    }
   ],
   "source": [
    "data['price'].describe().round(2)"
   ]
  },
  {
   "cell_type": "markdown",
   "metadata": {},
   "source": [
    "Видим, что минимальная цена продажи автомобиля равна 0 евро, построим гистограмму:"
   ]
  },
  {
   "cell_type": "code",
   "execution_count": 29,
   "metadata": {},
   "outputs": [
    {
     "data": {
      "text/plain": [
       "<matplotlib.axes._subplots.AxesSubplot at 0x7f676fc75dd0>"
      ]
     },
     "execution_count": 29,
     "metadata": {},
     "output_type": "execute_result"
    },
    {
     "data": {
      "image/png": "[encoded data removed]",
      "text/plain": [
       "<Figure size 1080x576 with 1 Axes>"
      ]
     },
     "metadata": {
      "needs_background": "light"
     },
     "output_type": "display_data"
    }
   ],
   "source": [
    "data['price'].plot(kind='hist', bins=500, figsize=(15,8))"
   ]
  },
  {
   "cell_type": "markdown",
   "metadata": {},
   "source": [
    "Посмотрим, что это за машины:"
   ]
  },
  {
   "cell_type": "code",
   "execution_count": 4,
   "metadata": {},
   "outputs": [],
   "source": [
    "#data[data['price'] == 0]"
   ]
  },
  {
   "cell_type": "code",
   "execution_count": 31,
   "metadata": {},
   "outputs": [
    {
     "data": {
      "text/plain": [
       "count      3526.000000\n",
       "mean     133335.224050\n",
       "std       36898.856448\n",
       "min        5000.000000\n",
       "25%      150000.000000\n",
       "50%      150000.000000\n",
       "75%      150000.000000\n",
       "max      150000.000000\n",
       "Name: kilometer, dtype: float64"
      ]
     },
     "execution_count": 31,
     "metadata": {},
     "output_type": "execute_result"
    }
   ],
   "source": [
    "data[data['price'] == 0]['kilometer'].describe()"
   ]
  },
  {
   "cell_type": "code",
   "execution_count": 32,
   "metadata": {},
   "outputs": [
    {
     "data": {
      "text/plain": [
       "<matplotlib.axes._subplots.AxesSubplot at 0x7f676c6cc350>"
      ]
     },
     "execution_count": 32,
     "metadata": {},
     "output_type": "execute_result"
    },
    {
     "data": {
      "image/png": "[encoded data removed]",
      "text/plain": [
       "<Figure size 432x288 with 1 Axes>"
      ]
     },
     "metadata": {
      "needs_background": "light"
     },
     "output_type": "display_data"
    }
   ],
   "source": [
    "data[data['price'] == 0]['kilometer'].plot(kind='hist')"
   ]
  },
  {
   "cell_type": "markdown",
   "metadata": {},
   "source": [
    "Может это какие-то битые с большим пробегом."
   ]
  },
  {
   "cell_type": "markdown",
   "metadata": {},
   "source": [
    "Удалим строки с нулевым значением цены и близкие к 0:"
   ]
  },
  {
   "cell_type": "code",
   "execution_count": 33,
   "metadata": {},
   "outputs": [],
   "source": [
    "data = data[data['price'] > 20]"
   ]
  },
  {
   "cell_type": "markdown",
   "metadata": {},
   "source": [
    "Построим гистограмму ещу раз:"
   ]
  },
  {
   "cell_type": "code",
   "execution_count": 34,
   "metadata": {},
   "outputs": [
    {
     "data": {
      "text/plain": [
       "<matplotlib.axes._subplots.AxesSubplot at 0x7f676d5ff210>"
      ]
     },
     "execution_count": 34,
     "metadata": {},
     "output_type": "execute_result"
    },
    {
     "data": {
      "image/png": "[encoded data removed]",
      "text/plain": [
       "<Figure size 1080x576 with 1 Axes>"
      ]
     },
     "metadata": {
      "needs_background": "light"
     },
     "output_type": "display_data"
    }
   ],
   "source": [
    "data['price'].plot(kind='hist', bins=500, figsize=(15,8))"
   ]
  },
  {
   "cell_type": "markdown",
   "metadata": {},
   "source": [
    "######  Дата регистрации автомобиля:"
   ]
  },
  {
   "cell_type": "code",
   "execution_count": 35,
   "metadata": {},
   "outputs": [
    {
     "data": {
      "text/plain": [
       "count    247953.00\n",
       "mean       2002.77\n",
       "std           6.16\n",
       "min        1923.00\n",
       "25%        1999.00\n",
       "50%        2003.00\n",
       "75%        2007.00\n",
       "max        2018.00\n",
       "Name: registration_year, dtype: float64"
      ]
     },
     "execution_count": 35,
     "metadata": {},
     "output_type": "execute_result"
    }
   ],
   "source": [
    "data['registration_year'].describe().round(2)"
   ]
  },
  {
   "cell_type": "markdown",
   "metadata": {},
   "source": [
    "В столбце с годом регистрации автомобиля, есть 1910 год. Построим гистограмму:"
   ]
  },
  {
   "cell_type": "code",
   "execution_count": 36,
   "metadata": {},
   "outputs": [
    {
     "data": {
      "text/plain": [
       "<matplotlib.axes._subplots.AxesSubplot at 0x7f6768819810>"
      ]
     },
     "execution_count": 36,
     "metadata": {},
     "output_type": "execute_result"
    },
    {
     "data": {
      "image/png": "[encoded data removed]",
      "text/plain": [
       "<Figure size 1080x576 with 1 Axes>"
      ]
     },
     "metadata": {
      "needs_background": "light"
     },
     "output_type": "display_data"
    }
   ],
   "source": [
    "data['registration_year'].plot(kind='hist', bins=100, figsize=(15,8))"
   ]
  },
  {
   "cell_type": "markdown",
   "metadata": {},
   "source": [
    "Удалим объявления до 1980 года:"
   ]
  },
  {
   "cell_type": "code",
   "execution_count": 37,
   "metadata": {},
   "outputs": [],
   "source": [
    "data = data[data['registration_year'] > 1980]"
   ]
  },
  {
   "cell_type": "markdown",
   "metadata": {},
   "source": [
    "Построим еще раз гистограмму:"
   ]
  },
  {
   "cell_type": "code",
   "execution_count": 38,
   "metadata": {},
   "outputs": [
    {
     "data": {
      "text/plain": [
       "<matplotlib.axes._subplots.AxesSubplot at 0x7f676d4f1390>"
      ]
     },
     "execution_count": 38,
     "metadata": {},
     "output_type": "execute_result"
    },
    {
     "data": {
      "image/png": "[encoded data removed]",
      "text/plain": [
       "<Figure size 1080x576 with 1 Axes>"
      ]
     },
     "metadata": {
      "needs_background": "light"
     },
     "output_type": "display_data"
    }
   ],
   "source": [
    "data['registration_year'].plot(kind='hist', bins=20, figsize=(15,8))"
   ]
  },
  {
   "cell_type": "markdown",
   "metadata": {},
   "source": [
    "##### Проверим мощность двигателя:"
   ]
  },
  {
   "cell_type": "code",
   "execution_count": 39,
   "metadata": {},
   "outputs": [
    {
     "data": {
      "text/plain": [
       "count    246160.00\n",
       "mean        119.14\n",
       "std         164.71\n",
       "min           0.00\n",
       "25%          75.00\n",
       "50%         110.00\n",
       "75%         150.00\n",
       "max       20000.00\n",
       "Name: power, dtype: float64"
      ]
     },
     "execution_count": 39,
     "metadata": {},
     "output_type": "execute_result"
    }
   ],
   "source": [
    "data['power'].describe().round(2)"
   ]
  },
  {
   "cell_type": "code",
   "execution_count": 40,
   "metadata": {},
   "outputs": [
    {
     "data": {
      "text/plain": [
       "<matplotlib.axes._subplots.AxesSubplot at 0x7f67684bced0>"
      ]
     },
     "execution_count": 40,
     "metadata": {},
     "output_type": "execute_result"
    },
    {
     "data": {
      "image/png": "[encoded data removed]",
      "text/plain": [
       "<Figure size 1080x576 with 1 Axes>"
      ]
     },
     "metadata": {
      "needs_background": "light"
     },
     "output_type": "display_data"
    }
   ],
   "source": [
    "data['power'].plot(kind='hist', bins=100, figsize=(15,8))"
   ]
  },
  {
   "cell_type": "markdown",
   "metadata": {},
   "source": [
    "Видим, что есть строки, с нулевой мощностью двигателя, а есть строки где мощность 20000. Т.е. строки с нереальными значениями мощностей двигателя. Изучим их:"
   ]
  },
  {
   "cell_type": "code",
   "execution_count": 5,
   "metadata": {},
   "outputs": [],
   "source": [
    "#data[data['power'] == 0]"
   ]
  },
  {
   "cell_type": "code",
   "execution_count": 42,
   "metadata": {},
   "outputs": [
    {
     "data": {
      "text/plain": [
       "<matplotlib.axes._subplots.AxesSubplot at 0x7f6768383990>"
      ]
     },
     "execution_count": 42,
     "metadata": {},
     "output_type": "execute_result"
    },
    {
     "data": {
      "image/png": "[encoded data removed]",
      "text/plain": [
       "<Figure size 1080x576 with 1 Axes>"
      ]
     },
     "metadata": {
      "needs_background": "light"
     },
     "output_type": "display_data"
    }
   ],
   "source": [
    "data[data['power'] < 500]['power'].plot(kind='hist', bins=100, figsize=(15,8))"
   ]
  },
  {
   "cell_type": "markdown",
   "metadata": {},
   "source": [
    "Удалим строки с нулевыми  значениями мощности и со значениями мощности больше 350."
   ]
  },
  {
   "cell_type": "code",
   "execution_count": 43,
   "metadata": {},
   "outputs": [],
   "source": [
    "data = data[data['power'] > 0]\n",
    "data = data[data['power'] < 350]"
   ]
  },
  {
   "cell_type": "markdown",
   "metadata": {},
   "source": [
    "Посмотрим что получилось:"
   ]
  },
  {
   "cell_type": "code",
   "execution_count": 44,
   "metadata": {},
   "outputs": [
    {
     "data": {
      "text/plain": [
       "<matplotlib.axes._subplots.AxesSubplot at 0x7f676d5a9150>"
      ]
     },
     "execution_count": 44,
     "metadata": {},
     "output_type": "execute_result"
    },
    {
     "data": {
      "image/png": "[encoded data removed]",
      "text/plain": [
       "<Figure size 1080x576 with 1 Axes>"
      ]
     },
     "metadata": {
      "needs_background": "light"
     },
     "output_type": "display_data"
    }
   ],
   "source": [
    "data['power'].plot(kind='hist', bins=50, figsize=(15,8))"
   ]
  },
  {
   "cell_type": "markdown",
   "metadata": {},
   "source": [
    "###### Изучим пробег."
   ]
  },
  {
   "cell_type": "code",
   "execution_count": 45,
   "metadata": {},
   "outputs": [
    {
     "data": {
      "text/plain": [
       "count    233710.00\n",
       "mean     127912.90\n",
       "std       36553.18\n",
       "min        5000.00\n",
       "25%      125000.00\n",
       "50%      150000.00\n",
       "75%      150000.00\n",
       "max      150000.00\n",
       "Name: kilometer, dtype: float64"
      ]
     },
     "execution_count": 45,
     "metadata": {},
     "output_type": "execute_result"
    }
   ],
   "source": [
    "data['kilometer'].describe().round(2)"
   ]
  },
  {
   "cell_type": "code",
   "execution_count": 46,
   "metadata": {},
   "outputs": [
    {
     "data": {
      "text/plain": [
       "<matplotlib.axes._subplots.AxesSubplot at 0x7f676354d110>"
      ]
     },
     "execution_count": 46,
     "metadata": {},
     "output_type": "execute_result"
    },
    {
     "data": {
      "image/png": "[encoded data removed]",
      "text/plain": [
       "<Figure size 1080x576 with 1 Axes>"
      ]
     },
     "metadata": {
      "needs_background": "light"
     },
     "output_type": "display_data"
    }
   ],
   "source": [
    "data['kilometer'].plot(kind='hist', bins=10, figsize=(15,8))"
   ]
  },
  {
   "cell_type": "markdown",
   "metadata": {},
   "source": [
    "Вроде ничего необычного."
   ]
  },
  {
   "cell_type": "markdown",
   "metadata": {},
   "source": [
    "##### Проверим признаки на мультиколлинеарность:"
   ]
  },
  {
   "cell_type": "code",
   "execution_count": 47,
   "metadata": {},
   "outputs": [],
   "source": [
    "import seaborn as sns\n",
    "import matplotlib.pyplot as plt"
   ]
  },
  {
   "cell_type": "code",
   "execution_count": 48,
   "metadata": {},
   "outputs": [
    {
     "data": {
      "text/plain": [
       "<matplotlib.axes._subplots.AxesSubplot at 0x7f67454b57d0>"
      ]
     },
     "execution_count": 48,
     "metadata": {},
     "output_type": "execute_result"
    },
    {
     "data": {
      "image/png": "[encoded data removed]",
      "text/plain": [
       "<Figure size 720x576 with 2 Axes>"
      ]
     },
     "metadata": {
      "needs_background": "light"
     },
     "output_type": "display_data"
    }
   ],
   "source": [
    "correlation_matrix = data.corr().round(2)\n",
    "plt.figure(figsize=(10,8))\n",
    "sns.heatmap(data=correlation_matrix, annot=True)"
   ]
  },
  {
   "cell_type": "markdown",
   "metadata": {},
   "source": [
    "Мультиколлинеарности не найдено, зато видим, что год регистрации (год выпуска) автомобиля, коррелирует с ценой автомобиля."
   ]
  },
  {
   "cell_type": "markdown",
   "metadata": {},
   "source": [
    "###### Столбец 'postal_code'."
   ]
  },
  {
   "cell_type": "code",
   "execution_count": 49,
   "metadata": {},
   "outputs": [
    {
     "data": {
      "text/plain": [
       "<matplotlib.axes._subplots.AxesSubplot at 0x7f674536bad0>"
      ]
     },
     "execution_count": 49,
     "metadata": {},
     "output_type": "execute_result"
    },
    {
     "data": {
      "image/png": "[encoded data removed]",
      "text/plain": [
       "<Figure size 432x288 with 1 Axes>"
      ]
     },
     "metadata": {
      "needs_background": "light"
     },
     "output_type": "display_data"
    }
   ],
   "source": [
    "pd.DataFrame(data.groupby('postal_code')['price'].mean()).reset_index().plot(x='price', style='o')"
   ]
  },
  {
   "cell_type": "code",
   "execution_count": 50,
   "metadata": {},
   "outputs": [
    {
     "data": {
      "text/plain": [
       "<matplotlib.axes._subplots.AxesSubplot at 0x7f67452ee4d0>"
      ]
     },
     "execution_count": 50,
     "metadata": {},
     "output_type": "execute_result"
    },
    {
     "data": {
      "image/png": "[encoded data removed]",
      "text/plain": [
       "<Figure size 432x288 with 1 Axes>"
      ]
     },
     "metadata": {
      "needs_background": "light"
     },
     "output_type": "display_data"
    }
   ],
   "source": [
    "pd.DataFrame(data.groupby('postal_code')['price'].median()).reset_index().plot(x='price', style='o')"
   ]
  },
  {
   "cell_type": "markdown",
   "metadata": {},
   "source": [
    "Удалим этот столбец:"
   ]
  },
  {
   "cell_type": "code",
   "execution_count": 51,
   "metadata": {},
   "outputs": [],
   "source": [
    "data = data.drop(['postal_code'], axis=1)"
   ]
  },
  {
   "cell_type": "markdown",
   "metadata": {},
   "source": [
    "##### Посмотрим сколько осталось строк. Было 354369."
   ]
  },
  {
   "cell_type": "code",
   "execution_count": 7,
   "metadata": {},
   "outputs": [],
   "source": [
    "#data.info()"
   ]
  },
  {
   "cell_type": "code",
   "execution_count": 53,
   "metadata": {},
   "outputs": [
    {
     "data": {
      "text/plain": [
       "0.6595102844774797"
      ]
     },
     "execution_count": 53,
     "metadata": {},
     "output_type": "execute_result"
    }
   ],
   "source": [
    "len(data) / 354369"
   ]
  },
  {
   "cell_type": "code",
   "execution_count": 6,
   "metadata": {},
   "outputs": [],
   "source": [
    "#data"
   ]
  },
  {
   "cell_type": "markdown",
   "metadata": {},
   "source": [
    "# 2. Обучение моделей"
   ]
  },
  {
   "cell_type": "markdown",
   "metadata": {},
   "source": [
    "Разобьем исходные данные на признаки **features** и  целевой признак **target** и поделим выборку на обучающую и тестовую:"
   ]
  },
  {
   "cell_type": "code",
   "execution_count": 55,
   "metadata": {},
   "outputs": [],
   "source": [
    "from sklearn.model_selection import train_test_split"
   ]
  },
  {
   "cell_type": "code",
   "execution_count": 56,
   "metadata": {},
   "outputs": [],
   "source": [
    "features = data.drop(['price'], axis=1)\n",
    "target = data['price']"
   ]
  },
  {
   "cell_type": "code",
   "execution_count": 57,
   "metadata": {},
   "outputs": [],
   "source": [
    "features_train, features_test, target_train, target_test = train_test_split(features, target, test_size=0.25, random_state=12345)"
   ]
  },
  {
   "cell_type": "markdown",
   "metadata": {},
   "source": [
    "Далее обучим разные модели с различными гиперпараметрами. Для оценки качества моделей используем метрику RMSE."
   ]
  },
  {
   "cell_type": "markdown",
   "metadata": {},
   "source": [
    "Создадим функцию для RMSE и свой скорер:"
   ]
  },
  {
   "cell_type": "code",
   "execution_count": 58,
   "metadata": {},
   "outputs": [],
   "source": [
    "from sklearn.metrics import mean_squared_error\n",
    "from sklearn.metrics.scorer import make_scorer"
   ]
  },
  {
   "cell_type": "code",
   "execution_count": 59,
   "metadata": {},
   "outputs": [],
   "source": [
    "def RMSE(target, prediction):\n",
    "    return np.sqrt(mean_squared_error(target, prediction))\n",
    "my_scorer = make_scorer(RMSE, greater_is_better = False)"
   ]
  },
  {
   "cell_type": "markdown",
   "metadata": {},
   "source": [
    "#### XGBoost"
   ]
  },
  {
   "cell_type": "code",
   "execution_count": 60,
   "metadata": {},
   "outputs": [],
   "source": [
    "import numpy as np\n",
    "from xgboost.sklearn import XGBRegressor\n",
    "from sklearn.model_selection import GridSearchCV"
   ]
  },
  {
   "cell_type": "markdown",
   "metadata": {},
   "source": [
    "Переведем категориальные признаки в численные:"
   ]
  },
  {
   "cell_type": "code",
   "execution_count": 61,
   "metadata": {},
   "outputs": [],
   "source": [
    "data_ohe = pd.get_dummies(data, drop_first=True)\n",
    "features_train_ohe, features_test_ohe, target_train_ohe, target_test_ohe = train_test_split(\n",
    "    data_ohe.drop('price', axis=1), data_ohe.price, test_size=0.25, random_state=12345)"
   ]
  },
  {
   "cell_type": "code",
   "execution_count": 62,
   "metadata": {},
   "outputs": [],
   "source": [
    "#param_grid = {'n_estimators':[100, 10, 150]}"
   ]
  },
  {
   "cell_type": "code",
   "execution_count": 64,
   "metadata": {},
   "outputs": [],
   "source": [
    "#XGBoost_GridSearch = GridSearchCV(estimator=XGBRegressor(random_state=12345, objective='reg:squarederror'), \n",
    "#                                  param_grid=param_grid, scoring = my_scorer,\n",
    "#                                  n_jobs=-1, cv=3)\n",
    "#XGBoost_GridSearch.fit(features_train_ohe, target_train_ohe)"
   ]
  },
  {
   "cell_type": "code",
   "execution_count": 65,
   "metadata": {},
   "outputs": [
    {
     "name": "stderr",
     "output_type": "stream",
     "text": [
      "/opt/conda/lib/python3.7/site-packages/xgboost/core.py:587: FutureWarning: Series.base is deprecated and will be removed in a future version\n",
      "  if getattr(data, 'base', None) is not None and \\\n",
      "/opt/conda/lib/python3.7/site-packages/xgboost/core.py:587: FutureWarning: Series.base is deprecated and will be removed in a future version\n",
      "  if getattr(data, 'base', None) is not None and \\\n",
      "/opt/conda/lib/python3.7/site-packages/xgboost/core.py:587: FutureWarning: Series.base is deprecated and will be removed in a future version\n",
      "  if getattr(data, 'base', None) is not None and \\\n",
      "/opt/conda/lib/python3.7/site-packages/xgboost/core.py:587: FutureWarning: Series.base is deprecated and will be removed in a future version\n",
      "  if getattr(data, 'base', None) is not None and \\\n"
     ]
    },
    {
     "name": "stdout",
     "output_type": "stream",
     "text": [
      "CPU times: user 11min 6s, sys: 5.23 s, total: 11min 11s\n",
      "Wall time: 11min 19s\n"
     ]
    },
    {
     "data": {
      "text/plain": [
       "GridSearchCV(cv=3, error_score='raise-deprecating',\n",
       "             estimator=XGBRegressor(base_score=0.5, booster='gbtree',\n",
       "                                    colsample_bylevel=1, colsample_bynode=1,\n",
       "                                    colsample_bytree=1, gamma=0,\n",
       "                                    importance_type='gain', learning_rate=0.1,\n",
       "                                    max_delta_step=0, max_depth=3,\n",
       "                                    min_child_weight=1, missing=None,\n",
       "                                    n_estimators=100, n_jobs=1, nthread=None,\n",
       "                                    objective='reg:squarederror',\n",
       "                                    random_state=12345, reg_alpha=0,\n",
       "                                    reg_lambda=1, scale_pos_weight=1, seed=None,\n",
       "                                    silent=None, subsample=1, verbosity=1),\n",
       "             iid='warn', n_jobs=-1, param_grid={'n_estimators': [150]},\n",
       "             pre_dispatch='2*n_jobs', refit=True, return_train_score=False,\n",
       "             scoring=make_scorer(RMSE, greater_is_better=False), verbose=0)"
      ]
     },
     "execution_count": 65,
     "metadata": {},
     "output_type": "execute_result"
    }
   ],
   "source": [
    "%%time\n",
    "param_grid = {'n_estimators':[150]}\n",
    "XGBoost_GridSearch = GridSearchCV(estimator=XGBRegressor(random_state=12345, objective='reg:squarederror'), \n",
    "                                  param_grid=param_grid, scoring = my_scorer,\n",
    "                                  n_jobs=-1, cv=3)\n",
    "XGBoost_GridSearch.fit(features_train_ohe, target_train_ohe)"
   ]
  },
  {
   "cell_type": "code",
   "execution_count": 66,
   "metadata": {},
   "outputs": [
    {
     "data": {
      "text/plain": [
       "-1760.2755871985287"
      ]
     },
     "execution_count": 66,
     "metadata": {},
     "output_type": "execute_result"
    }
   ],
   "source": [
    "XGBoost_GridSearch.best_score_"
   ]
  },
  {
   "cell_type": "code",
   "execution_count": 67,
   "metadata": {},
   "outputs": [
    {
     "data": {
      "text/plain": [
       "{'n_estimators': 150}"
      ]
     },
     "execution_count": 67,
     "metadata": {},
     "output_type": "execute_result"
    }
   ],
   "source": [
    "XGBoost_GridSearch.best_params_"
   ]
  },
  {
   "cell_type": "code",
   "execution_count": 68,
   "metadata": {},
   "outputs": [
    {
     "name": "stdout",
     "output_type": "stream",
     "text": [
      "CPU times: user 635 ms, sys: 220 ms, total: 855 ms\n",
      "Wall time: 870 ms\n"
     ]
    },
    {
     "data": {
      "text/plain": [
       "array([ 3632.6223 , 15402.946  ,  1148.9019 , ...,  1829.6069 ,\n",
       "         673.03186,  5505.125  ], dtype=float32)"
      ]
     },
     "execution_count": 68,
     "metadata": {},
     "output_type": "execute_result"
    }
   ],
   "source": [
    "%%time\n",
    "XGBoost_GridSearch.predict(features_test_ohe)"
   ]
  },
  {
   "cell_type": "markdown",
   "metadata": {},
   "source": [
    "#### LightGBM"
   ]
  },
  {
   "cell_type": "code",
   "execution_count": 69,
   "metadata": {},
   "outputs": [],
   "source": [
    "from lightgbm import LGBMRegressor"
   ]
  },
  {
   "cell_type": "code",
   "execution_count": 70,
   "metadata": {},
   "outputs": [],
   "source": [
    "categoricals = ['vehicle_type', 'gearbox', 'model', 'fuel_type', 'brand', 'not_repaired']\n",
    "#indexes_of_categories = [features_train.columns.get_loc(col) for col in categoricals]"
   ]
  },
  {
   "cell_type": "code",
   "execution_count": 71,
   "metadata": {},
   "outputs": [],
   "source": [
    "#pd.options.mode.chained_assignment = None"
   ]
  },
  {
   "cell_type": "code",
   "execution_count": 72,
   "metadata": {},
   "outputs": [
    {
     "name": "stderr",
     "output_type": "stream",
     "text": [
      "/opt/conda/lib/python3.7/site-packages/ipykernel_launcher.py:4: SettingWithCopyWarning: \n",
      "A value is trying to be set on a copy of a slice from a DataFrame.\n",
      "Try using .loc[row_indexer,col_indexer] = value instead\n",
      "\n",
      "See the caveats in the documentation: http://pandas.pydata.org/pandas-docs/stable/user_guide/indexing.html#returning-a-view-versus-a-copy\n",
      "  after removing the cwd from sys.path.\n",
      "/opt/conda/lib/python3.7/site-packages/ipykernel_launcher.py:5: SettingWithCopyWarning: \n",
      "A value is trying to be set on a copy of a slice from a DataFrame.\n",
      "Try using .loc[row_indexer,col_indexer] = value instead\n",
      "\n",
      "See the caveats in the documentation: http://pandas.pydata.org/pandas-docs/stable/user_guide/indexing.html#returning-a-view-versus-a-copy\n",
      "  \"\"\"\n"
     ]
    }
   ],
   "source": [
    "features_train_LGBM = features_train.copy()\n",
    "features_test_LGBM = features_train.copy()\n",
    "for c in categoricals:\n",
    "    features_train[c] = features_train[c].astype('category')\n",
    "    features_test[c] = features_test[c].astype('category')"
   ]
  },
  {
   "cell_type": "code",
   "execution_count": 73,
   "metadata": {},
   "outputs": [],
   "source": [
    "#param_grid = {'num_leaves': [31, 127],\n",
    "#    'reg_alpha': [0.1, 0.2]}"
   ]
  },
  {
   "cell_type": "code",
   "execution_count": 75,
   "metadata": {},
   "outputs": [],
   "source": [
    "#LGBM_GridSearch = GridSearchCV(estimator=LGBMRegressor(loss_function=\"RMSE\", random_state=12345 ), \n",
    "#                                  param_grid=param_grid, scoring = my_scorer, cv=3)\n",
    "#LGBM_GridSearch.fit(features_train, target_train)"
   ]
  },
  {
   "cell_type": "code",
   "execution_count": 76,
   "metadata": {},
   "outputs": [
    {
     "name": "stdout",
     "output_type": "stream",
     "text": [
      "CPU times: user 13.4 s, sys: 180 ms, total: 13.5 s\n",
      "Wall time: 13.7 s\n"
     ]
    },
    {
     "data": {
      "text/plain": [
       "GridSearchCV(cv=3, error_score='raise-deprecating',\n",
       "             estimator=LGBMRegressor(boosting_type='gbdt', class_weight=None,\n",
       "                                     colsample_bytree=1.0,\n",
       "                                     importance_type='split', learning_rate=0.1,\n",
       "                                     loss_function='RMSE', max_depth=-1,\n",
       "                                     min_child_samples=20,\n",
       "                                     min_child_weight=0.001, min_split_gain=0.0,\n",
       "                                     n_estimators=100, n_jobs=-1, num_leaves=31,\n",
       "                                     objective=None, random_state=12345,\n",
       "                                     reg_alpha=0.0, reg_lambda=0.0, silent=True,\n",
       "                                     subsample=1.0, subsample_for_bin=200000,\n",
       "                                     subsample_freq=0),\n",
       "             iid='warn', n_jobs=None,\n",
       "             param_grid={'num_leaves': [127], 'reg_alpha': [0.1]},\n",
       "             pre_dispatch='2*n_jobs', refit=True, return_train_score=False,\n",
       "             scoring=make_scorer(RMSE, greater_is_better=False), verbose=0)"
      ]
     },
     "execution_count": 76,
     "metadata": {},
     "output_type": "execute_result"
    }
   ],
   "source": [
    "%%time\n",
    "param_grid = {'num_leaves': [127],\n",
    "    'reg_alpha': [0.1]}\n",
    "LGBM_GridSearch = GridSearchCV(estimator=LGBMRegressor(loss_function=\"RMSE\", random_state=12345 ), \n",
    "                                  param_grid=param_grid, scoring = my_scorer, cv=3)\n",
    "LGBM_GridSearch.fit(features_train, target_train)"
   ]
  },
  {
   "cell_type": "code",
   "execution_count": 77,
   "metadata": {},
   "outputs": [
    {
     "data": {
      "text/plain": [
       "-1501.8218548436535"
      ]
     },
     "execution_count": 77,
     "metadata": {},
     "output_type": "execute_result"
    }
   ],
   "source": [
    "LGBM_GridSearch.best_score_"
   ]
  },
  {
   "cell_type": "code",
   "execution_count": 78,
   "metadata": {},
   "outputs": [
    {
     "data": {
      "text/plain": [
       "{'num_leaves': 127, 'reg_alpha': 0.1}"
      ]
     },
     "execution_count": 78,
     "metadata": {},
     "output_type": "execute_result"
    }
   ],
   "source": [
    "LGBM_GridSearch.best_params_"
   ]
  },
  {
   "cell_type": "code",
   "execution_count": 79,
   "metadata": {},
   "outputs": [
    {
     "name": "stdout",
     "output_type": "stream",
     "text": [
      "CPU times: user 1.19 s, sys: 4.01 ms, total: 1.2 s\n",
      "Wall time: 1.22 s\n"
     ]
    },
    {
     "data": {
      "text/plain": [
       "array([ 4274.45457986, 16471.05586391,   693.99899221, ...,\n",
       "        1665.59142876,   743.67475189,  4887.86815939])"
      ]
     },
     "execution_count": 79,
     "metadata": {},
     "output_type": "execute_result"
    }
   ],
   "source": [
    "%%time\n",
    "LGBM_GridSearch.predict(features_test)"
   ]
  },
  {
   "cell_type": "markdown",
   "metadata": {},
   "source": [
    "#### CatBoost"
   ]
  },
  {
   "cell_type": "code",
   "execution_count": 80,
   "metadata": {},
   "outputs": [],
   "source": [
    "from catboost import CatBoostRegressor"
   ]
  },
  {
   "cell_type": "code",
   "execution_count": 81,
   "metadata": {},
   "outputs": [],
   "source": [
    "cat_features = ['vehicle_type', 'gearbox', 'model', 'fuel_type', 'brand', 'not_repaired']"
   ]
  },
  {
   "cell_type": "code",
   "execution_count": 82,
   "metadata": {},
   "outputs": [],
   "source": [
    "#parameters_grid = {'iterations': [100, 150],\n",
    "#                'depth': [12, 15]}"
   ]
  },
  {
   "cell_type": "code",
   "execution_count": 83,
   "metadata": {},
   "outputs": [],
   "source": [
    "#Cat_GridSearch = GridSearchCV(estimator = CatBoostRegressor(random_state=12345), \n",
    "#                              param_grid =parameters_grid , cv=3, verbose=100, n_jobs=-1, \n",
    "#                              scoring = my_scorer)\n",
    "#Cat_GridSearch.fit(features_train, target_train, cat_features = cat_features)"
   ]
  },
  {
   "cell_type": "code",
   "execution_count": 84,
   "metadata": {},
   "outputs": [
    {
     "name": "stdout",
     "output_type": "stream",
     "text": [
      "Fitting 3 folds for each of 1 candidates, totalling 3 fits\n",
      "[Parallel(n_jobs=-1)]: Using backend SequentialBackend with 1 concurrent workers.\n",
      "[CV] depth=15, iterations=150 ........................................\n",
      "0:\tlearn: 4559.0998572\ttotal: 683ms\tremaining: 1m 41s\n",
      "1:\tlearn: 4457.7650194\ttotal: 1.07s\tremaining: 1m 19s\n",
      "2:\tlearn: 4359.6222962\ttotal: 3.02s\tremaining: 2m 28s\n",
      "3:\tlearn: 4263.6511392\ttotal: 4.51s\tremaining: 2m 44s\n",
      "4:\tlearn: 4172.7449452\ttotal: 5.39s\tremaining: 2m 36s\n",
      "5:\tlearn: 4085.0088386\ttotal: 5.98s\tremaining: 2m 23s\n",
      "6:\tlearn: 3997.0996724\ttotal: 7.31s\tremaining: 2m 29s\n",
      "7:\tlearn: 3912.5235724\ttotal: 8.71s\tremaining: 2m 34s\n",
      "8:\tlearn: 3830.3397626\ttotal: 10.1s\tremaining: 2m 38s\n",
      "9:\tlearn: 3751.5732559\ttotal: 11.4s\tremaining: 2m 39s\n",
      "10:\tlearn: 3676.7469667\ttotal: 12.8s\tremaining: 2m 41s\n",
      "11:\tlearn: 3604.3295205\ttotal: 14.2s\tremaining: 2m 43s\n",
      "12:\tlearn: 3533.8834104\ttotal: 15.5s\tremaining: 2m 43s\n",
      "13:\tlearn: 3468.1505899\ttotal: 17s\tremaining: 2m 45s\n",
      "14:\tlearn: 3405.5099870\ttotal: 18.5s\tremaining: 2m 46s\n",
      "15:\tlearn: 3342.0753986\ttotal: 19.8s\tremaining: 2m 45s\n",
      "16:\tlearn: 3282.1382259\ttotal: 21.4s\tremaining: 2m 47s\n",
      "17:\tlearn: 3223.4004848\ttotal: 22.8s\tremaining: 2m 46s\n",
      "18:\tlearn: 3167.7293701\ttotal: 24s\tremaining: 2m 45s\n",
      "19:\tlearn: 3113.1825337\ttotal: 25.4s\tremaining: 2m 44s\n",
      "20:\tlearn: 3060.0685755\ttotal: 26.6s\tremaining: 2m 43s\n",
      "21:\tlearn: 3010.0358090\ttotal: 28s\tremaining: 2m 43s\n",
      "22:\tlearn: 2963.0528152\ttotal: 29.5s\tremaining: 2m 42s\n",
      "23:\tlearn: 2917.9684784\ttotal: 30.9s\tremaining: 2m 41s\n",
      "24:\tlearn: 2873.7810743\ttotal: 32.3s\tremaining: 2m 41s\n",
      "25:\tlearn: 2831.1517319\ttotal: 33.6s\tremaining: 2m 40s\n",
      "26:\tlearn: 2790.7194001\ttotal: 35.1s\tremaining: 2m 39s\n",
      "27:\tlearn: 2753.3330674\ttotal: 35.4s\tremaining: 2m 34s\n",
      "28:\tlearn: 2715.7917816\ttotal: 36.9s\tremaining: 2m 33s\n",
      "29:\tlearn: 2680.0347868\ttotal: 38.3s\tremaining: 2m 33s\n",
      "30:\tlearn: 2645.4626101\ttotal: 39.7s\tremaining: 2m 32s\n",
      "31:\tlearn: 2611.9580239\ttotal: 40.9s\tremaining: 2m 30s\n",
      "32:\tlearn: 2579.9164465\ttotal: 42.2s\tremaining: 2m 29s\n",
      "33:\tlearn: 2544.3954846\ttotal: 43.6s\tremaining: 2m 28s\n",
      "34:\tlearn: 2508.4504471\ttotal: 45s\tremaining: 2m 27s\n",
      "35:\tlearn: 2475.0082335\ttotal: 46.3s\tremaining: 2m 26s\n",
      "36:\tlearn: 2441.7096867\ttotal: 47.8s\tremaining: 2m 25s\n",
      "37:\tlearn: 2409.7071781\ttotal: 49.3s\tremaining: 2m 25s\n",
      "38:\tlearn: 2379.4751345\ttotal: 50.7s\tremaining: 2m 24s\n",
      "39:\tlearn: 2350.4252924\ttotal: 52.1s\tremaining: 2m 23s\n",
      "40:\tlearn: 2321.7657931\ttotal: 53.6s\tremaining: 2m 22s\n",
      "41:\tlearn: 2294.2918308\ttotal: 55s\tremaining: 2m 21s\n",
      "42:\tlearn: 2268.6062424\ttotal: 56.3s\tremaining: 2m 20s\n",
      "43:\tlearn: 2243.3288112\ttotal: 57.7s\tremaining: 2m 18s\n",
      "44:\tlearn: 2220.2815703\ttotal: 59s\tremaining: 2m 17s\n",
      "45:\tlearn: 2197.7500671\ttotal: 1m\tremaining: 2m 16s\n",
      "46:\tlearn: 2175.8024438\ttotal: 1m 1s\tremaining: 2m 15s\n",
      "47:\tlearn: 2155.4637339\ttotal: 1m 3s\tremaining: 2m 14s\n",
      "48:\tlearn: 2135.8604047\ttotal: 1m 4s\tremaining: 2m 13s\n",
      "49:\tlearn: 2116.7506027\ttotal: 1m 6s\tremaining: 2m 12s\n",
      "50:\tlearn: 2097.7501278\ttotal: 1m 7s\tremaining: 2m 11s\n",
      "51:\tlearn: 2079.7157548\ttotal: 1m 9s\tremaining: 2m 10s\n",
      "52:\tlearn: 2062.8449683\ttotal: 1m 10s\tremaining: 2m 8s\n",
      "53:\tlearn: 2045.4770165\ttotal: 1m 11s\tremaining: 2m 7s\n",
      "54:\tlearn: 2027.2778678\ttotal: 1m 13s\tremaining: 2m 6s\n",
      "55:\tlearn: 2010.1832086\ttotal: 1m 14s\tremaining: 2m 5s\n",
      "56:\tlearn: 1994.0154541\ttotal: 1m 15s\tremaining: 2m 3s\n",
      "57:\tlearn: 1977.8237898\ttotal: 1m 17s\tremaining: 2m 2s\n",
      "58:\tlearn: 1963.0173809\ttotal: 1m 18s\tremaining: 2m 1s\n",
      "59:\tlearn: 1948.5667620\ttotal: 1m 20s\tremaining: 2m\n",
      "60:\tlearn: 1934.7817976\ttotal: 1m 21s\tremaining: 1m 59s\n",
      "61:\tlearn: 1921.7212455\ttotal: 1m 23s\tremaining: 1m 58s\n",
      "62:\tlearn: 1908.7981821\ttotal: 1m 24s\tremaining: 1m 56s\n",
      "63:\tlearn: 1896.6739422\ttotal: 1m 26s\tremaining: 1m 55s\n",
      "64:\tlearn: 1885.1146427\ttotal: 1m 27s\tremaining: 1m 54s\n",
      "65:\tlearn: 1873.8612767\ttotal: 1m 28s\tremaining: 1m 53s\n",
      "66:\tlearn: 1863.1976489\ttotal: 1m 30s\tremaining: 1m 51s\n",
      "67:\tlearn: 1852.8154609\ttotal: 1m 31s\tremaining: 1m 50s\n",
      "68:\tlearn: 1842.6495966\ttotal: 1m 33s\tremaining: 1m 49s\n",
      "69:\tlearn: 1833.0389215\ttotal: 1m 34s\tremaining: 1m 48s\n",
      "70:\tlearn: 1824.0021178\ttotal: 1m 35s\tremaining: 1m 46s\n",
      "71:\tlearn: 1815.2245000\ttotal: 1m 37s\tremaining: 1m 45s\n",
      "72:\tlearn: 1806.7492810\ttotal: 1m 39s\tremaining: 1m 44s\n",
      "73:\tlearn: 1798.3868301\ttotal: 1m 40s\tremaining: 1m 43s\n",
      "74:\tlearn: 1790.5323202\ttotal: 1m 41s\tremaining: 1m 41s\n",
      "75:\tlearn: 1783.1046251\ttotal: 1m 43s\tremaining: 1m 40s\n",
      "76:\tlearn: 1775.7062897\ttotal: 1m 44s\tremaining: 1m 39s\n",
      "77:\tlearn: 1768.2953590\ttotal: 1m 45s\tremaining: 1m 37s\n",
      "78:\tlearn: 1761.1141054\ttotal: 1m 47s\tremaining: 1m 36s\n",
      "79:\tlearn: 1754.7883494\ttotal: 1m 48s\tremaining: 1m 35s\n",
      "80:\tlearn: 1748.6641642\ttotal: 1m 50s\tremaining: 1m 33s\n",
      "81:\tlearn: 1742.7942396\ttotal: 1m 51s\tremaining: 1m 32s\n",
      "82:\tlearn: 1736.9518290\ttotal: 1m 52s\tremaining: 1m 30s\n",
      "83:\tlearn: 1731.4233089\ttotal: 1m 54s\tremaining: 1m 29s\n",
      "84:\tlearn: 1726.1464014\ttotal: 1m 55s\tremaining: 1m 28s\n",
      "85:\tlearn: 1720.8670349\ttotal: 1m 56s\tremaining: 1m 27s\n",
      "86:\tlearn: 1715.8379748\ttotal: 1m 58s\tremaining: 1m 25s\n",
      "87:\tlearn: 1710.5709444\ttotal: 1m 59s\tremaining: 1m 24s\n",
      "88:\tlearn: 1705.7580571\ttotal: 2m 1s\tremaining: 1m 23s\n",
      "89:\tlearn: 1701.4164233\ttotal: 2m 2s\tremaining: 1m 21s\n",
      "90:\tlearn: 1696.9586425\ttotal: 2m 4s\tremaining: 1m 20s\n",
      "91:\tlearn: 1692.5586613\ttotal: 2m 5s\tremaining: 1m 19s\n",
      "92:\tlearn: 1688.7560092\ttotal: 2m 7s\tremaining: 1m 17s\n",
      "93:\tlearn: 1684.4589049\ttotal: 2m 8s\tremaining: 1m 16s\n",
      "94:\tlearn: 1681.0050399\ttotal: 2m 10s\tremaining: 1m 15s\n",
      "95:\tlearn: 1677.6415003\ttotal: 2m 11s\tremaining: 1m 13s\n",
      "96:\tlearn: 1674.1461864\ttotal: 2m 12s\tremaining: 1m 12s\n",
      "97:\tlearn: 1670.5508247\ttotal: 2m 14s\tremaining: 1m 11s\n",
      "98:\tlearn: 1667.2233505\ttotal: 2m 15s\tremaining: 1m 9s\n",
      "99:\tlearn: 1663.3109200\ttotal: 2m 17s\tremaining: 1m 8s\n",
      "100:\tlearn: 1660.1867531\ttotal: 2m 18s\tremaining: 1m 7s\n",
      "101:\tlearn: 1654.9937371\ttotal: 2m 19s\tremaining: 1m 5s\n",
      "102:\tlearn: 1649.8300929\ttotal: 2m 21s\tremaining: 1m 4s\n",
      "103:\tlearn: 1644.6618379\ttotal: 2m 22s\tremaining: 1m 3s\n",
      "104:\tlearn: 1639.8196840\ttotal: 2m 24s\tremaining: 1m 1s\n",
      "105:\tlearn: 1635.0081328\ttotal: 2m 25s\tremaining: 1m\n",
      "106:\tlearn: 1630.6287884\ttotal: 2m 27s\tremaining: 59.1s\n",
      "107:\tlearn: 1626.2353376\ttotal: 2m 28s\tremaining: 57.8s\n",
      "108:\tlearn: 1621.9123766\ttotal: 2m 29s\tremaining: 56.4s\n",
      "109:\tlearn: 1618.2610497\ttotal: 2m 31s\tremaining: 55s\n",
      "110:\tlearn: 1614.5411891\ttotal: 2m 32s\tremaining: 53.7s\n",
      "111:\tlearn: 1611.0534105\ttotal: 2m 34s\tremaining: 52.4s\n",
      "112:\tlearn: 1607.8817024\ttotal: 2m 35s\tremaining: 51s\n",
      "113:\tlearn: 1604.3622096\ttotal: 2m 37s\tremaining: 49.6s\n",
      "114:\tlearn: 1601.0695395\ttotal: 2m 38s\tremaining: 48.2s\n",
      "115:\tlearn: 1597.9006594\ttotal: 2m 39s\tremaining: 46.9s\n",
      "116:\tlearn: 1594.4638035\ttotal: 2m 41s\tremaining: 45.5s\n",
      "117:\tlearn: 1591.4732236\ttotal: 2m 42s\tremaining: 44.2s\n",
      "118:\tlearn: 1588.8681682\ttotal: 2m 44s\tremaining: 42.8s\n",
      "119:\tlearn: 1585.8427350\ttotal: 2m 45s\tremaining: 41.4s\n",
      "120:\tlearn: 1583.1594766\ttotal: 2m 46s\tremaining: 40s\n",
      "121:\tlearn: 1580.5610543\ttotal: 2m 48s\tremaining: 38.6s\n",
      "122:\tlearn: 1578.2397118\ttotal: 2m 49s\tremaining: 37.3s\n",
      "123:\tlearn: 1576.1449414\ttotal: 2m 51s\tremaining: 35.9s\n",
      "124:\tlearn: 1573.5799070\ttotal: 2m 52s\tremaining: 34.6s\n",
      "125:\tlearn: 1571.1032624\ttotal: 2m 54s\tremaining: 33.2s\n",
      "126:\tlearn: 1568.5981642\ttotal: 2m 55s\tremaining: 31.8s\n",
      "127:\tlearn: 1566.2192416\ttotal: 2m 57s\tremaining: 30.5s\n",
      "128:\tlearn: 1564.3916261\ttotal: 2m 58s\tremaining: 29.1s\n",
      "129:\tlearn: 1562.2803776\ttotal: 3m\tremaining: 27.7s\n",
      "130:\tlearn: 1560.3737207\ttotal: 3m 1s\tremaining: 26.4s\n",
      "131:\tlearn: 1557.8176495\ttotal: 3m 3s\tremaining: 25s\n",
      "132:\tlearn: 1556.2104593\ttotal: 3m 4s\tremaining: 23.6s\n",
      "133:\tlearn: 1554.3347013\ttotal: 3m 6s\tremaining: 22.2s\n",
      "134:\tlearn: 1552.4281564\ttotal: 3m 7s\tremaining: 20.8s\n",
      "135:\tlearn: 1550.3364775\ttotal: 3m 8s\tremaining: 19.4s\n",
      "136:\tlearn: 1548.7631400\ttotal: 3m 10s\tremaining: 18s\n",
      "137:\tlearn: 1546.4851436\ttotal: 3m 11s\tremaining: 16.6s\n",
      "138:\tlearn: 1544.9305214\ttotal: 3m 12s\tremaining: 15.3s\n",
      "139:\tlearn: 1543.2115235\ttotal: 3m 14s\tremaining: 13.9s\n",
      "140:\tlearn: 1541.8310214\ttotal: 3m 15s\tremaining: 12.5s\n",
      "141:\tlearn: 1540.4553297\ttotal: 3m 16s\tremaining: 11.1s\n",
      "142:\tlearn: 1539.1418055\ttotal: 3m 18s\tremaining: 9.71s\n",
      "143:\tlearn: 1537.2559337\ttotal: 3m 19s\tremaining: 8.32s\n",
      "144:\tlearn: 1535.7362939\ttotal: 3m 21s\tremaining: 6.93s\n",
      "145:\tlearn: 1534.3294414\ttotal: 3m 22s\tremaining: 5.55s\n",
      "146:\tlearn: 1532.8242197\ttotal: 3m 24s\tremaining: 4.16s\n",
      "147:\tlearn: 1531.2352741\ttotal: 3m 25s\tremaining: 2.78s\n",
      "148:\tlearn: 1529.6357449\ttotal: 3m 27s\tremaining: 1.39s\n",
      "149:\tlearn: 1528.3851988\ttotal: 3m 28s\tremaining: 0us\n",
      "[CV] ........ depth=15, iterations=150, score=-1604.309, total= 3.6min\n",
      "[Parallel(n_jobs=-1)]: Done   1 out of   1 | elapsed:  3.6min remaining:    0.0s\n",
      "[CV] depth=15, iterations=150 ........................................\n",
      "0:\tlearn: 4552.9218042\ttotal: 1.32s\tremaining: 3m 16s\n",
      "1:\tlearn: 4449.2880318\ttotal: 2.74s\tremaining: 3m 22s\n",
      "2:\tlearn: 4350.6960085\ttotal: 3.3s\tremaining: 2m 41s\n",
      "3:\tlearn: 4253.4400862\ttotal: 4.6s\tremaining: 2m 47s\n",
      "4:\tlearn: 4161.8170746\ttotal: 5.82s\tremaining: 2m 48s\n",
      "5:\tlearn: 4070.8828570\ttotal: 7.14s\tremaining: 2m 51s\n",
      "6:\tlearn: 3984.5389384\ttotal: 8.64s\tremaining: 2m 56s\n",
      "7:\tlearn: 3902.4730926\ttotal: 9.42s\tremaining: 2m 47s\n",
      "8:\tlearn: 3823.5491706\ttotal: 10.9s\tremaining: 2m 51s\n",
      "9:\tlearn: 3745.5830723\ttotal: 12.4s\tremaining: 2m 53s\n",
      "10:\tlearn: 3669.7391221\ttotal: 13.9s\tremaining: 2m 56s\n",
      "11:\tlearn: 3596.4385528\ttotal: 15.4s\tremaining: 2m 57s\n",
      "12:\tlearn: 3526.9384767\ttotal: 16.8s\tremaining: 2m 56s\n",
      "13:\tlearn: 3458.2958952\ttotal: 18.2s\tremaining: 2m 56s\n",
      "14:\tlearn: 3393.2193755\ttotal: 19.6s\tremaining: 2m 56s\n",
      "15:\tlearn: 3329.1630083\ttotal: 20.9s\tremaining: 2m 55s\n",
      "16:\tlearn: 3268.9512915\ttotal: 22.2s\tremaining: 2m 54s\n",
      "17:\tlearn: 3211.9862039\ttotal: 22.5s\tremaining: 2m 44s\n",
      "18:\tlearn: 3156.0249231\ttotal: 24s\tremaining: 2m 45s\n",
      "19:\tlearn: 3102.1956487\ttotal: 25.5s\tremaining: 2m 45s\n",
      "20:\tlearn: 3050.1434478\ttotal: 26.8s\tremaining: 2m 44s\n",
      "21:\tlearn: 3000.6569402\ttotal: 28.3s\tremaining: 2m 44s\n",
      "22:\tlearn: 2952.8317599\ttotal: 29.7s\tremaining: 2m 44s\n",
      "23:\tlearn: 2906.4042093\ttotal: 31.2s\tremaining: 2m 43s\n",
      "24:\tlearn: 2863.1105775\ttotal: 32.7s\tremaining: 2m 43s\n",
      "25:\tlearn: 2820.8640270\ttotal: 34s\tremaining: 2m 42s\n",
      "26:\tlearn: 2780.5125686\ttotal: 34.8s\tremaining: 2m 38s\n",
      "27:\tlearn: 2739.7446911\ttotal: 36.1s\tremaining: 2m 37s\n",
      "28:\tlearn: 2702.2050465\ttotal: 37.4s\tremaining: 2m 36s\n",
      "29:\tlearn: 2665.4072021\ttotal: 38.8s\tremaining: 2m 35s\n",
      "30:\tlearn: 2630.4261695\ttotal: 40s\tremaining: 2m 33s\n",
      "31:\tlearn: 2597.5184942\ttotal: 41.3s\tremaining: 2m 32s\n",
      "32:\tlearn: 2565.3554528\ttotal: 42.7s\tremaining: 2m 31s\n",
      "33:\tlearn: 2535.7884994\ttotal: 43.5s\tremaining: 2m 28s\n",
      "34:\tlearn: 2500.6277676\ttotal: 45s\tremaining: 2m 27s\n",
      "35:\tlearn: 2466.0433558\ttotal: 46.4s\tremaining: 2m 26s\n",
      "36:\tlearn: 2433.7172082\ttotal: 47.7s\tremaining: 2m 25s\n",
      "37:\tlearn: 2402.2216045\ttotal: 49.2s\tremaining: 2m 24s\n",
      "38:\tlearn: 2371.5858404\ttotal: 50.7s\tremaining: 2m 24s\n",
      "39:\tlearn: 2342.9617053\ttotal: 52.2s\tremaining: 2m 23s\n",
      "40:\tlearn: 2315.3464796\ttotal: 53.6s\tremaining: 2m 22s\n",
      "41:\tlearn: 2288.3083043\ttotal: 54.9s\tremaining: 2m 21s\n",
      "42:\tlearn: 2262.6657950\ttotal: 56.4s\tremaining: 2m 20s\n",
      "43:\tlearn: 2237.6422425\ttotal: 57.7s\tremaining: 2m 19s\n",
      "44:\tlearn: 2214.2143212\ttotal: 59.1s\tremaining: 2m 17s\n",
      "45:\tlearn: 2191.2940122\ttotal: 1m\tremaining: 2m 16s\n",
      "46:\tlearn: 2169.7020742\ttotal: 1m 1s\tremaining: 2m 15s\n",
      "47:\tlearn: 2149.5434579\ttotal: 1m 3s\tremaining: 2m 14s\n",
      "48:\tlearn: 2129.9315923\ttotal: 1m 4s\tremaining: 2m 13s\n",
      "49:\tlearn: 2110.8000034\ttotal: 1m 6s\tremaining: 2m 12s\n",
      "50:\tlearn: 2092.6280062\ttotal: 1m 7s\tremaining: 2m 10s\n",
      "51:\tlearn: 2075.2357169\ttotal: 1m 8s\tremaining: 2m 9s\n",
      "52:\tlearn: 2057.8703759\ttotal: 1m 10s\tremaining: 2m 8s\n",
      "53:\tlearn: 2041.2402368\ttotal: 1m 11s\tremaining: 2m 7s\n",
      "54:\tlearn: 2025.2433815\ttotal: 1m 13s\tremaining: 2m 6s\n",
      "55:\tlearn: 2007.7987016\ttotal: 1m 14s\tremaining: 2m 5s\n",
      "56:\tlearn: 1991.5329648\ttotal: 1m 15s\tremaining: 2m 3s\n",
      "57:\tlearn: 1975.7885680\ttotal: 1m 17s\tremaining: 2m 2s\n",
      "58:\tlearn: 1960.7090713\ttotal: 1m 18s\tremaining: 2m 1s\n",
      "59:\tlearn: 1945.9916458\ttotal: 1m 20s\tremaining: 2m\n",
      "60:\tlearn: 1931.3732714\ttotal: 1m 21s\tremaining: 1m 58s\n",
      "61:\tlearn: 1918.2547489\ttotal: 1m 22s\tremaining: 1m 57s\n",
      "62:\tlearn: 1905.7013010\ttotal: 1m 24s\tremaining: 1m 56s\n",
      "63:\tlearn: 1893.3179585\ttotal: 1m 25s\tremaining: 1m 54s\n",
      "64:\tlearn: 1881.8123427\ttotal: 1m 26s\tremaining: 1m 53s\n",
      "65:\tlearn: 1870.2215147\ttotal: 1m 28s\tremaining: 1m 52s\n",
      "66:\tlearn: 1859.7884339\ttotal: 1m 29s\tremaining: 1m 51s\n",
      "67:\tlearn: 1849.1956983\ttotal: 1m 31s\tremaining: 1m 49s\n",
      "68:\tlearn: 1838.7631284\ttotal: 1m 32s\tremaining: 1m 48s\n",
      "69:\tlearn: 1828.9253898\ttotal: 1m 33s\tremaining: 1m 47s\n",
      "70:\tlearn: 1819.7473280\ttotal: 1m 34s\tremaining: 1m 45s\n",
      "71:\tlearn: 1810.8737409\ttotal: 1m 36s\tremaining: 1m 44s\n",
      "72:\tlearn: 1802.0237742\ttotal: 1m 37s\tremaining: 1m 43s\n",
      "73:\tlearn: 1793.9978700\ttotal: 1m 39s\tremaining: 1m 41s\n",
      "74:\tlearn: 1785.8373273\ttotal: 1m 40s\tremaining: 1m 40s\n",
      "75:\tlearn: 1778.1156867\ttotal: 1m 41s\tremaining: 1m 39s\n",
      "76:\tlearn: 1770.8198155\ttotal: 1m 43s\tremaining: 1m 37s\n",
      "77:\tlearn: 1763.9242030\ttotal: 1m 44s\tremaining: 1m 36s\n",
      "78:\tlearn: 1757.0331103\ttotal: 1m 45s\tremaining: 1m 35s\n",
      "79:\tlearn: 1750.8940594\ttotal: 1m 47s\tremaining: 1m 33s\n",
      "80:\tlearn: 1744.5439423\ttotal: 1m 48s\tremaining: 1m 32s\n",
      "81:\tlearn: 1738.8626011\ttotal: 1m 50s\tremaining: 1m 31s\n",
      "82:\tlearn: 1732.9487172\ttotal: 1m 51s\tremaining: 1m 30s\n",
      "83:\tlearn: 1727.5903594\ttotal: 1m 52s\tremaining: 1m 28s\n",
      "84:\tlearn: 1721.8305310\ttotal: 1m 54s\tremaining: 1m 27s\n",
      "85:\tlearn: 1716.5252885\ttotal: 1m 55s\tremaining: 1m 26s\n",
      "86:\tlearn: 1711.4129681\ttotal: 1m 56s\tremaining: 1m 24s\n",
      "87:\tlearn: 1706.4654910\ttotal: 1m 58s\tremaining: 1m 23s\n",
      "88:\tlearn: 1701.7234452\ttotal: 1m 59s\tremaining: 1m 22s\n",
      "89:\tlearn: 1696.7139973\ttotal: 2m 1s\tremaining: 1m 20s\n",
      "90:\tlearn: 1692.2989710\ttotal: 2m 2s\tremaining: 1m 19s\n",
      "91:\tlearn: 1688.1846455\ttotal: 2m 3s\tremaining: 1m 18s\n",
      "92:\tlearn: 1684.1831785\ttotal: 2m 5s\tremaining: 1m 16s\n",
      "93:\tlearn: 1680.3423010\ttotal: 2m 6s\tremaining: 1m 15s\n",
      "94:\tlearn: 1676.3373766\ttotal: 2m 7s\tremaining: 1m 14s\n",
      "95:\tlearn: 1672.0398959\ttotal: 2m 9s\tremaining: 1m 12s\n",
      "96:\tlearn: 1668.6255615\ttotal: 2m 10s\tremaining: 1m 11s\n",
      "97:\tlearn: 1664.7026824\ttotal: 2m 12s\tremaining: 1m 10s\n",
      "98:\tlearn: 1661.4153746\ttotal: 2m 13s\tremaining: 1m 8s\n",
      "99:\tlearn: 1657.7888590\ttotal: 2m 15s\tremaining: 1m 7s\n",
      "100:\tlearn: 1654.4708839\ttotal: 2m 16s\tremaining: 1m 6s\n",
      "101:\tlearn: 1651.1654396\ttotal: 2m 18s\tremaining: 1m 5s\n",
      "102:\tlearn: 1648.2333058\ttotal: 2m 19s\tremaining: 1m 3s\n",
      "103:\tlearn: 1642.7136199\ttotal: 2m 21s\tremaining: 1m 2s\n",
      "104:\tlearn: 1637.5915130\ttotal: 2m 22s\tremaining: 1m 1s\n",
      "105:\tlearn: 1632.3829741\ttotal: 2m 24s\tremaining: 59.8s\n",
      "106:\tlearn: 1628.0227064\ttotal: 2m 25s\tremaining: 58.4s\n",
      "107:\tlearn: 1623.5440882\ttotal: 2m 26s\tremaining: 57s\n",
      "108:\tlearn: 1619.5925070\ttotal: 2m 28s\tremaining: 55.7s\n",
      "109:\tlearn: 1615.5012080\ttotal: 2m 29s\tremaining: 54.4s\n",
      "110:\tlearn: 1611.5643457\ttotal: 2m 31s\tremaining: 53.1s\n",
      "111:\tlearn: 1607.9610302\ttotal: 2m 32s\tremaining: 51.8s\n",
      "112:\tlearn: 1604.4312325\ttotal: 2m 34s\tremaining: 50.5s\n",
      "113:\tlearn: 1600.7989102\ttotal: 2m 35s\tremaining: 49.2s\n",
      "114:\tlearn: 1597.0690771\ttotal: 2m 37s\tremaining: 47.8s\n",
      "115:\tlearn: 1593.9002283\ttotal: 2m 38s\tremaining: 46.5s\n",
      "116:\tlearn: 1590.4897093\ttotal: 2m 40s\tremaining: 45.2s\n",
      "117:\tlearn: 1586.7020938\ttotal: 2m 41s\tremaining: 43.9s\n",
      "118:\tlearn: 1583.7125380\ttotal: 2m 43s\tremaining: 42.5s\n",
      "119:\tlearn: 1580.9345904\ttotal: 2m 44s\tremaining: 41.1s\n",
      "120:\tlearn: 1577.7638335\ttotal: 2m 46s\tremaining: 39.8s\n",
      "121:\tlearn: 1574.5862430\ttotal: 2m 47s\tremaining: 38.4s\n",
      "122:\tlearn: 1571.7748380\ttotal: 2m 49s\tremaining: 37.1s\n",
      "123:\tlearn: 1568.9537380\ttotal: 2m 50s\tremaining: 35.8s\n",
      "124:\tlearn: 1565.9754535\ttotal: 2m 52s\tremaining: 34.4s\n",
      "125:\tlearn: 1563.6123671\ttotal: 2m 53s\tremaining: 33.1s\n",
      "126:\tlearn: 1561.3486689\ttotal: 2m 55s\tremaining: 31.7s\n",
      "127:\tlearn: 1558.8945092\ttotal: 2m 56s\tremaining: 30.3s\n",
      "128:\tlearn: 1556.4267815\ttotal: 2m 57s\tremaining: 29s\n",
      "129:\tlearn: 1553.6745923\ttotal: 2m 59s\tremaining: 27.6s\n",
      "130:\tlearn: 1551.1198025\ttotal: 3m\tremaining: 26.2s\n",
      "131:\tlearn: 1548.6754087\ttotal: 3m 2s\tremaining: 24.8s\n",
      "132:\tlearn: 1546.3649569\ttotal: 3m 3s\tremaining: 23.5s\n",
      "133:\tlearn: 1544.2959156\ttotal: 3m 5s\tremaining: 22.1s\n",
      "134:\tlearn: 1542.2995673\ttotal: 3m 6s\tremaining: 20.7s\n",
      "135:\tlearn: 1540.1794828\ttotal: 3m 7s\tremaining: 19.3s\n",
      "136:\tlearn: 1538.2081050\ttotal: 3m 9s\tremaining: 18s\n",
      "137:\tlearn: 1536.0781378\ttotal: 3m 10s\tremaining: 16.6s\n",
      "138:\tlearn: 1534.6068105\ttotal: 3m 12s\tremaining: 15.2s\n",
      "139:\tlearn: 1532.7197552\ttotal: 3m 13s\tremaining: 13.8s\n",
      "140:\tlearn: 1530.8162754\ttotal: 3m 15s\tremaining: 12.5s\n",
      "141:\tlearn: 1528.7533453\ttotal: 3m 16s\tremaining: 11.1s\n",
      "142:\tlearn: 1527.3348502\ttotal: 3m 18s\tremaining: 9.69s\n",
      "143:\tlearn: 1526.0522433\ttotal: 3m 19s\tremaining: 8.31s\n",
      "144:\tlearn: 1523.9774183\ttotal: 3m 20s\tremaining: 6.93s\n",
      "145:\tlearn: 1522.4057658\ttotal: 3m 22s\tremaining: 5.54s\n",
      "146:\tlearn: 1520.8638020\ttotal: 3m 23s\tremaining: 4.16s\n",
      "147:\tlearn: 1518.7409380\ttotal: 3m 25s\tremaining: 2.77s\n",
      "148:\tlearn: 1517.3768091\ttotal: 3m 26s\tremaining: 1.39s\n",
      "149:\tlearn: 1515.7451451\ttotal: 3m 28s\tremaining: 0us\n",
      "[CV] ........ depth=15, iterations=150, score=-1639.808, total= 3.6min\n",
      "[Parallel(n_jobs=-1)]: Done   2 out of   2 | elapsed:  7.2min remaining:    0.0s\n",
      "[CV] depth=15, iterations=150 ........................................\n",
      "0:\tlearn: 4555.9875450\ttotal: 1.56s\tremaining: 3m 51s\n",
      "1:\tlearn: 4453.0648693\ttotal: 2.91s\tremaining: 3m 35s\n",
      "2:\tlearn: 4354.5075162\ttotal: 3.47s\tremaining: 2m 49s\n",
      "3:\tlearn: 4258.7539837\ttotal: 4.85s\tremaining: 2m 57s\n",
      "4:\tlearn: 4167.4788129\ttotal: 5.37s\tremaining: 2m 35s\n",
      "5:\tlearn: 4077.0525611\ttotal: 6.65s\tremaining: 2m 39s\n",
      "6:\tlearn: 3992.3376495\ttotal: 7.87s\tremaining: 2m 40s\n",
      "7:\tlearn: 3909.9782646\ttotal: 9.2s\tremaining: 2m 43s\n",
      "8:\tlearn: 3830.5243478\ttotal: 10.7s\tremaining: 2m 47s\n",
      "9:\tlearn: 3753.9343637\ttotal: 12s\tremaining: 2m 48s\n",
      "10:\tlearn: 3677.9726255\ttotal: 13.4s\tremaining: 2m 49s\n",
      "11:\tlearn: 3607.1459981\ttotal: 13.7s\tremaining: 2m 37s\n",
      "12:\tlearn: 3536.8542868\ttotal: 15.1s\tremaining: 2m 39s\n",
      "13:\tlearn: 3469.7063020\ttotal: 16.4s\tremaining: 2m 39s\n",
      "14:\tlearn: 3404.6863201\ttotal: 17.8s\tremaining: 2m 39s\n",
      "15:\tlearn: 3343.1601751\ttotal: 19s\tremaining: 2m 39s\n",
      "16:\tlearn: 3281.7593242\ttotal: 20.4s\tremaining: 2m 39s\n",
      "17:\tlearn: 3223.3718313\ttotal: 21.8s\tremaining: 2m 39s\n",
      "18:\tlearn: 3167.6350190\ttotal: 23.2s\tremaining: 2m 39s\n",
      "19:\tlearn: 3112.9647882\ttotal: 24.6s\tremaining: 2m 39s\n",
      "20:\tlearn: 3061.0220013\ttotal: 25.9s\tremaining: 2m 38s\n",
      "21:\tlearn: 3012.2910483\ttotal: 27.2s\tremaining: 2m 38s\n",
      "22:\tlearn: 2964.6498514\ttotal: 27.8s\tremaining: 2m 33s\n",
      "23:\tlearn: 2918.6548035\ttotal: 29.2s\tremaining: 2m 33s\n",
      "24:\tlearn: 2874.4721121\ttotal: 30.5s\tremaining: 2m 32s\n",
      "25:\tlearn: 2832.6997038\ttotal: 31.9s\tremaining: 2m 32s\n",
      "26:\tlearn: 2793.4792597\ttotal: 32.2s\tremaining: 2m 26s\n",
      "27:\tlearn: 2753.2639963\ttotal: 33.7s\tremaining: 2m 26s\n",
      "28:\tlearn: 2715.2917502\ttotal: 35.1s\tremaining: 2m 26s\n",
      "29:\tlearn: 2679.0926952\ttotal: 36.5s\tremaining: 2m 26s\n",
      "30:\tlearn: 2643.7907261\ttotal: 38s\tremaining: 2m 25s\n",
      "31:\tlearn: 2610.3092096\ttotal: 39.3s\tremaining: 2m 24s\n",
      "32:\tlearn: 2578.4625676\ttotal: 40.7s\tremaining: 2m 24s\n",
      "33:\tlearn: 2541.1501909\ttotal: 42s\tremaining: 2m 23s\n",
      "34:\tlearn: 2505.6300824\ttotal: 43.4s\tremaining: 2m 22s\n",
      "35:\tlearn: 2471.0509466\ttotal: 44.8s\tremaining: 2m 21s\n",
      "36:\tlearn: 2439.6083286\ttotal: 46.2s\tremaining: 2m 21s\n",
      "37:\tlearn: 2408.5243322\ttotal: 47.7s\tremaining: 2m 20s\n",
      "38:\tlearn: 2378.0877419\ttotal: 49.3s\tremaining: 2m 20s\n",
      "39:\tlearn: 2350.0973033\ttotal: 50.8s\tremaining: 2m 19s\n",
      "40:\tlearn: 2323.5865328\ttotal: 52.2s\tremaining: 2m 18s\n",
      "41:\tlearn: 2296.4948519\ttotal: 53.5s\tremaining: 2m 17s\n",
      "42:\tlearn: 2270.6475213\ttotal: 54.9s\tremaining: 2m 16s\n",
      "43:\tlearn: 2246.0663603\ttotal: 56.4s\tremaining: 2m 15s\n",
      "44:\tlearn: 2222.3069435\ttotal: 57.8s\tremaining: 2m 14s\n",
      "45:\tlearn: 2200.2176838\ttotal: 59.2s\tremaining: 2m 13s\n",
      "46:\tlearn: 2178.7244106\ttotal: 1m\tremaining: 2m 12s\n",
      "47:\tlearn: 2158.2297103\ttotal: 1m 2s\tremaining: 2m 11s\n",
      "48:\tlearn: 2137.8796216\ttotal: 1m 3s\tremaining: 2m 10s\n",
      "49:\tlearn: 2119.0720985\ttotal: 1m 4s\tremaining: 2m 9s\n",
      "50:\tlearn: 2100.8123477\ttotal: 1m 6s\tremaining: 2m 8s\n",
      "51:\tlearn: 2082.8328717\ttotal: 1m 7s\tremaining: 2m 7s\n",
      "52:\tlearn: 2066.2894956\ttotal: 1m 9s\tremaining: 2m 6s\n",
      "53:\tlearn: 2050.1237867\ttotal: 1m 10s\tremaining: 2m 5s\n",
      "54:\tlearn: 2034.1271699\ttotal: 1m 12s\tremaining: 2m 4s\n",
      "55:\tlearn: 2017.2355997\ttotal: 1m 13s\tremaining: 2m 3s\n",
      "56:\tlearn: 2000.2395683\ttotal: 1m 15s\tremaining: 2m 2s\n",
      "57:\tlearn: 1984.2673026\ttotal: 1m 16s\tremaining: 2m 1s\n",
      "58:\tlearn: 1968.9504752\ttotal: 1m 17s\tremaining: 2m\n",
      "59:\tlearn: 1954.3036997\ttotal: 1m 19s\tremaining: 1m 58s\n",
      "60:\tlearn: 1939.9036082\ttotal: 1m 20s\tremaining: 1m 57s\n",
      "61:\tlearn: 1926.6805314\ttotal: 1m 22s\tremaining: 1m 56s\n",
      "62:\tlearn: 1913.7311714\ttotal: 1m 23s\tremaining: 1m 55s\n",
      "63:\tlearn: 1901.0418161\ttotal: 1m 24s\tremaining: 1m 54s\n",
      "64:\tlearn: 1889.4761419\ttotal: 1m 26s\tremaining: 1m 52s\n",
      "65:\tlearn: 1877.8581636\ttotal: 1m 27s\tremaining: 1m 51s\n",
      "66:\tlearn: 1867.0103448\ttotal: 1m 29s\tremaining: 1m 50s\n",
      "67:\tlearn: 1856.9768601\ttotal: 1m 30s\tremaining: 1m 49s\n",
      "68:\tlearn: 1846.1479806\ttotal: 1m 32s\tremaining: 1m 48s\n",
      "69:\tlearn: 1836.3315977\ttotal: 1m 33s\tremaining: 1m 47s\n",
      "70:\tlearn: 1826.7594661\ttotal: 1m 35s\tremaining: 1m 45s\n",
      "71:\tlearn: 1817.6235312\ttotal: 1m 36s\tremaining: 1m 44s\n",
      "72:\tlearn: 1808.7236298\ttotal: 1m 38s\tremaining: 1m 43s\n",
      "73:\tlearn: 1800.3102137\ttotal: 1m 39s\tremaining: 1m 42s\n",
      "74:\tlearn: 1792.4229618\ttotal: 1m 40s\tremaining: 1m 40s\n",
      "75:\tlearn: 1784.3006323\ttotal: 1m 42s\tremaining: 1m 39s\n",
      "76:\tlearn: 1776.5659075\ttotal: 1m 43s\tremaining: 1m 38s\n",
      "77:\tlearn: 1769.3315762\ttotal: 1m 45s\tremaining: 1m 37s\n",
      "78:\tlearn: 1762.8491735\ttotal: 1m 46s\tremaining: 1m 35s\n",
      "79:\tlearn: 1756.5014614\ttotal: 1m 48s\tremaining: 1m 34s\n",
      "80:\tlearn: 1750.3625661\ttotal: 1m 49s\tremaining: 1m 33s\n",
      "81:\tlearn: 1744.1647993\ttotal: 1m 50s\tremaining: 1m 31s\n",
      "82:\tlearn: 1738.1954833\ttotal: 1m 52s\tremaining: 1m 30s\n",
      "83:\tlearn: 1732.3484202\ttotal: 1m 53s\tremaining: 1m 29s\n",
      "84:\tlearn: 1727.3675784\ttotal: 1m 54s\tremaining: 1m 27s\n",
      "85:\tlearn: 1722.0867712\ttotal: 1m 56s\tremaining: 1m 26s\n",
      "86:\tlearn: 1716.9686850\ttotal: 1m 57s\tremaining: 1m 25s\n",
      "87:\tlearn: 1712.1919001\ttotal: 1m 59s\tremaining: 1m 23s\n",
      "88:\tlearn: 1707.4762934\ttotal: 2m\tremaining: 1m 22s\n",
      "89:\tlearn: 1703.0850317\ttotal: 2m 1s\tremaining: 1m 21s\n",
      "90:\tlearn: 1698.5016318\ttotal: 2m 3s\tremaining: 1m 19s\n",
      "91:\tlearn: 1694.0991583\ttotal: 2m 4s\tremaining: 1m 18s\n",
      "92:\tlearn: 1689.9702963\ttotal: 2m 6s\tremaining: 1m 17s\n",
      "93:\tlearn: 1685.7476475\ttotal: 2m 7s\tremaining: 1m 15s\n",
      "94:\tlearn: 1681.7797280\ttotal: 2m 8s\tremaining: 1m 14s\n",
      "95:\tlearn: 1677.5713717\ttotal: 2m 10s\tremaining: 1m 13s\n",
      "96:\tlearn: 1673.6453514\ttotal: 2m 11s\tremaining: 1m 11s\n",
      "97:\tlearn: 1668.4790821\ttotal: 2m 13s\tremaining: 1m 10s\n",
      "98:\tlearn: 1663.3640396\ttotal: 2m 14s\tremaining: 1m 9s\n",
      "99:\tlearn: 1658.2244439\ttotal: 2m 15s\tremaining: 1m 7s\n",
      "100:\tlearn: 1653.3406155\ttotal: 2m 17s\tremaining: 1m 6s\n",
      "101:\tlearn: 1648.6004903\ttotal: 2m 18s\tremaining: 1m 5s\n",
      "102:\tlearn: 1644.1472936\ttotal: 2m 20s\tremaining: 1m 3s\n",
      "103:\tlearn: 1640.0484918\ttotal: 2m 21s\tremaining: 1m 2s\n",
      "104:\tlearn: 1635.7783746\ttotal: 2m 22s\tremaining: 1m 1s\n",
      "105:\tlearn: 1631.3542316\ttotal: 2m 24s\tremaining: 59.9s\n",
      "106:\tlearn: 1627.6825726\ttotal: 2m 25s\tremaining: 58.6s\n",
      "107:\tlearn: 1623.9262754\ttotal: 2m 27s\tremaining: 57.3s\n",
      "108:\tlearn: 1620.4881995\ttotal: 2m 28s\tremaining: 56s\n",
      "109:\tlearn: 1616.7635592\ttotal: 2m 30s\tremaining: 54.6s\n",
      "110:\tlearn: 1613.6260632\ttotal: 2m 31s\tremaining: 53.3s\n",
      "111:\tlearn: 1610.1475110\ttotal: 2m 33s\tremaining: 51.9s\n",
      "112:\tlearn: 1607.1426640\ttotal: 2m 34s\tremaining: 50.6s\n",
      "113:\tlearn: 1603.8719749\ttotal: 2m 35s\tremaining: 49.3s\n",
      "114:\tlearn: 1600.7609942\ttotal: 2m 37s\tremaining: 47.9s\n",
      "115:\tlearn: 1597.7807484\ttotal: 2m 38s\tremaining: 46.6s\n",
      "116:\tlearn: 1594.9357904\ttotal: 2m 40s\tremaining: 45.2s\n",
      "117:\tlearn: 1591.4780024\ttotal: 2m 41s\tremaining: 43.8s\n",
      "118:\tlearn: 1588.9967169\ttotal: 2m 42s\tremaining: 42.5s\n",
      "119:\tlearn: 1586.4018763\ttotal: 2m 44s\tremaining: 41.1s\n",
      "120:\tlearn: 1583.8364580\ttotal: 2m 45s\tremaining: 39.8s\n",
      "121:\tlearn: 1581.2859541\ttotal: 2m 47s\tremaining: 38.4s\n",
      "122:\tlearn: 1578.9395056\ttotal: 2m 48s\tremaining: 37s\n",
      "123:\tlearn: 1576.7516364\ttotal: 2m 50s\tremaining: 35.7s\n",
      "124:\tlearn: 1574.3239880\ttotal: 2m 51s\tremaining: 34.3s\n",
      "125:\tlearn: 1572.4695290\ttotal: 2m 53s\tremaining: 33s\n",
      "126:\tlearn: 1569.7329362\ttotal: 2m 54s\tremaining: 31.6s\n",
      "127:\tlearn: 1567.4247256\ttotal: 2m 55s\tremaining: 30.2s\n",
      "128:\tlearn: 1565.2955459\ttotal: 2m 57s\tremaining: 28.9s\n",
      "129:\tlearn: 1562.9116639\ttotal: 2m 58s\tremaining: 27.5s\n",
      "130:\tlearn: 1560.9758402\ttotal: 3m\tremaining: 26.2s\n",
      "131:\tlearn: 1559.2703939\ttotal: 3m 1s\tremaining: 24.8s\n",
      "132:\tlearn: 1557.3571357\ttotal: 3m 3s\tremaining: 23.4s\n",
      "133:\tlearn: 1555.4414208\ttotal: 3m 4s\tremaining: 22.1s\n",
      "134:\tlearn: 1553.4211066\ttotal: 3m 6s\tremaining: 20.7s\n",
      "135:\tlearn: 1551.4831780\ttotal: 3m 7s\tremaining: 19.3s\n",
      "136:\tlearn: 1549.7569962\ttotal: 3m 9s\tremaining: 17.9s\n",
      "137:\tlearn: 1547.9484313\ttotal: 3m 10s\tremaining: 16.6s\n",
      "138:\tlearn: 1546.2969302\ttotal: 3m 11s\tremaining: 15.2s\n",
      "139:\tlearn: 1544.2937698\ttotal: 3m 13s\tremaining: 13.8s\n",
      "140:\tlearn: 1542.4053632\ttotal: 3m 14s\tremaining: 12.4s\n",
      "141:\tlearn: 1540.5849935\ttotal: 3m 16s\tremaining: 11.1s\n",
      "142:\tlearn: 1538.9955096\ttotal: 3m 17s\tremaining: 9.68s\n",
      "143:\tlearn: 1537.7674010\ttotal: 3m 19s\tremaining: 8.3s\n",
      "144:\tlearn: 1536.2741814\ttotal: 3m 20s\tremaining: 6.92s\n",
      "145:\tlearn: 1534.6477217\ttotal: 3m 22s\tremaining: 5.54s\n",
      "146:\tlearn: 1533.5267143\ttotal: 3m 23s\tremaining: 4.15s\n",
      "147:\tlearn: 1532.0020964\ttotal: 3m 24s\tremaining: 2.77s\n",
      "148:\tlearn: 1530.2611981\ttotal: 3m 26s\tremaining: 1.38s\n",
      "149:\tlearn: 1528.5647984\ttotal: 3m 27s\tremaining: 0us\n",
      "[CV] ........ depth=15, iterations=150, score=-1616.784, total= 3.6min\n",
      "[Parallel(n_jobs=-1)]: Done   3 out of   3 | elapsed: 10.7min remaining:    0.0s\n",
      "[Parallel(n_jobs=-1)]: Done   3 out of   3 | elapsed: 10.7min finished\n",
      "0:\tlearn: 4557.2351284\ttotal: 593ms\tremaining: 1m 28s\n",
      "1:\tlearn: 4454.1113045\ttotal: 1.29s\tremaining: 1m 35s\n",
      "2:\tlearn: 4355.7956836\ttotal: 2.83s\tremaining: 2m 18s\n",
      "3:\tlearn: 4258.8224603\ttotal: 4.4s\tremaining: 2m 40s\n",
      "4:\tlearn: 4165.6855733\ttotal: 5.09s\tremaining: 2m 27s\n",
      "5:\tlearn: 4076.1692168\ttotal: 6.5s\tremaining: 2m 35s\n",
      "6:\tlearn: 3989.7880792\ttotal: 8.01s\tremaining: 2m 43s\n",
      "7:\tlearn: 3906.0481389\ttotal: 9.57s\tremaining: 2m 49s\n",
      "8:\tlearn: 3825.6715150\ttotal: 11.2s\tremaining: 2m 55s\n",
      "9:\tlearn: 3748.2277580\ttotal: 11.6s\tremaining: 2m 42s\n",
      "10:\tlearn: 3673.2660908\ttotal: 13.1s\tremaining: 2m 45s\n",
      "11:\tlearn: 3599.1502808\ttotal: 14.6s\tremaining: 2m 48s\n",
      "12:\tlearn: 3528.3202310\ttotal: 16.1s\tremaining: 2m 49s\n",
      "13:\tlearn: 3460.2174314\ttotal: 17.6s\tremaining: 2m 50s\n",
      "14:\tlearn: 3395.9746007\ttotal: 19.1s\tremaining: 2m 51s\n",
      "15:\tlearn: 3332.9662255\ttotal: 20.6s\tremaining: 2m 52s\n",
      "16:\tlearn: 3272.9385720\ttotal: 21.5s\tremaining: 2m 48s\n",
      "17:\tlearn: 3214.8742114\ttotal: 22.9s\tremaining: 2m 48s\n",
      "18:\tlearn: 3158.5830836\ttotal: 24.4s\tremaining: 2m 48s\n",
      "19:\tlearn: 3104.3165119\ttotal: 25.9s\tremaining: 2m 48s\n",
      "20:\tlearn: 3051.9679267\ttotal: 27.3s\tremaining: 2m 47s\n",
      "21:\tlearn: 3002.1194604\ttotal: 29s\tremaining: 2m 48s\n",
      "22:\tlearn: 2953.5944044\ttotal: 30.6s\tremaining: 2m 48s\n",
      "23:\tlearn: 2907.0700992\ttotal: 32.1s\tremaining: 2m 48s\n",
      "24:\tlearn: 2861.6253525\ttotal: 33.6s\tremaining: 2m 47s\n",
      "25:\tlearn: 2818.8609148\ttotal: 35.2s\tremaining: 2m 47s\n",
      "26:\tlearn: 2777.3780566\ttotal: 36.7s\tremaining: 2m 47s\n",
      "27:\tlearn: 2737.9468898\ttotal: 38.3s\tremaining: 2m 46s\n",
      "28:\tlearn: 2701.8905053\ttotal: 38.8s\tremaining: 2m 41s\n",
      "29:\tlearn: 2665.5725678\ttotal: 40.4s\tremaining: 2m 41s\n",
      "30:\tlearn: 2630.9397390\ttotal: 41.9s\tremaining: 2m 40s\n",
      "31:\tlearn: 2596.8420902\ttotal: 43.4s\tremaining: 2m 39s\n",
      "32:\tlearn: 2559.1945434\ttotal: 44.9s\tremaining: 2m 39s\n",
      "33:\tlearn: 2523.1278733\ttotal: 46.4s\tremaining: 2m 38s\n",
      "34:\tlearn: 2488.3146182\ttotal: 47.9s\tremaining: 2m 37s\n",
      "35:\tlearn: 2455.1771654\ttotal: 49.5s\tremaining: 2m 36s\n",
      "36:\tlearn: 2422.7439616\ttotal: 51s\tremaining: 2m 35s\n",
      "37:\tlearn: 2391.8166647\ttotal: 52.6s\tremaining: 2m 34s\n",
      "38:\tlearn: 2362.1340006\ttotal: 54.1s\tremaining: 2m 33s\n",
      "39:\tlearn: 2333.1506695\ttotal: 55.6s\tremaining: 2m 32s\n",
      "40:\tlearn: 2305.7334449\ttotal: 57s\tremaining: 2m 31s\n",
      "41:\tlearn: 2279.4982570\ttotal: 58.5s\tremaining: 2m 30s\n",
      "42:\tlearn: 2254.8696571\ttotal: 1m\tremaining: 2m 29s\n",
      "43:\tlearn: 2230.4314402\ttotal: 1m 1s\tremaining: 2m 28s\n",
      "44:\tlearn: 2207.1622558\ttotal: 1m 3s\tremaining: 2m 27s\n",
      "45:\tlearn: 2186.1087630\ttotal: 1m 4s\tremaining: 2m 26s\n",
      "46:\tlearn: 2164.8279519\ttotal: 1m 6s\tremaining: 2m 24s\n",
      "47:\tlearn: 2144.9402516\ttotal: 1m 7s\tremaining: 2m 23s\n",
      "48:\tlearn: 2125.7956476\ttotal: 1m 9s\tremaining: 2m 22s\n",
      "49:\tlearn: 2107.2261918\ttotal: 1m 10s\tremaining: 2m 21s\n",
      "50:\tlearn: 2089.3760378\ttotal: 1m 12s\tremaining: 2m 20s\n",
      "51:\tlearn: 2072.6811570\ttotal: 1m 13s\tremaining: 2m 19s\n",
      "52:\tlearn: 2056.5873984\ttotal: 1m 15s\tremaining: 2m 17s\n",
      "53:\tlearn: 2041.0277714\ttotal: 1m 16s\tremaining: 2m 16s\n",
      "54:\tlearn: 2025.9148045\ttotal: 1m 18s\tremaining: 2m 15s\n",
      "55:\tlearn: 2011.3728371\ttotal: 1m 19s\tremaining: 2m 14s\n",
      "56:\tlearn: 1997.8614468\ttotal: 1m 21s\tremaining: 2m 12s\n",
      "57:\tlearn: 1984.7108312\ttotal: 1m 23s\tremaining: 2m 11s\n",
      "58:\tlearn: 1971.6875745\ttotal: 1m 24s\tremaining: 2m 10s\n",
      "59:\tlearn: 1956.6437941\ttotal: 1m 26s\tremaining: 2m 9s\n",
      "60:\tlearn: 1942.7398835\ttotal: 1m 27s\tremaining: 2m 8s\n",
      "61:\tlearn: 1929.1904927\ttotal: 1m 29s\tremaining: 2m 6s\n",
      "62:\tlearn: 1916.5365910\ttotal: 1m 30s\tremaining: 2m 5s\n",
      "63:\tlearn: 1904.2837024\ttotal: 1m 32s\tremaining: 2m 3s\n",
      "64:\tlearn: 1892.2020220\ttotal: 1m 33s\tremaining: 2m 2s\n",
      "65:\tlearn: 1880.7027814\ttotal: 1m 35s\tremaining: 2m 1s\n",
      "66:\tlearn: 1869.7398831\ttotal: 1m 36s\tremaining: 1m 59s\n",
      "67:\tlearn: 1859.3742530\ttotal: 1m 38s\tremaining: 1m 58s\n",
      "68:\tlearn: 1849.1707798\ttotal: 1m 39s\tremaining: 1m 57s\n",
      "69:\tlearn: 1839.7916973\ttotal: 1m 41s\tremaining: 1m 55s\n",
      "70:\tlearn: 1830.5796646\ttotal: 1m 42s\tremaining: 1m 54s\n",
      "71:\tlearn: 1821.9760893\ttotal: 1m 44s\tremaining: 1m 52s\n",
      "72:\tlearn: 1813.3366149\ttotal: 1m 45s\tremaining: 1m 51s\n",
      "73:\tlearn: 1805.0891709\ttotal: 1m 47s\tremaining: 1m 49s\n",
      "74:\tlearn: 1797.2090508\ttotal: 1m 48s\tremaining: 1m 48s\n",
      "75:\tlearn: 1790.0913557\ttotal: 1m 50s\tremaining: 1m 47s\n",
      "76:\tlearn: 1783.0042236\ttotal: 1m 51s\tremaining: 1m 45s\n",
      "77:\tlearn: 1775.7412701\ttotal: 1m 53s\tremaining: 1m 44s\n",
      "78:\tlearn: 1769.0552335\ttotal: 1m 54s\tremaining: 1m 42s\n",
      "79:\tlearn: 1762.3981923\ttotal: 1m 56s\tremaining: 1m 41s\n",
      "80:\tlearn: 1755.9140402\ttotal: 1m 57s\tremaining: 1m 40s\n",
      "81:\tlearn: 1750.2655952\ttotal: 1m 59s\tremaining: 1m 38s\n",
      "82:\tlearn: 1743.7537629\ttotal: 2m\tremaining: 1m 37s\n",
      "83:\tlearn: 1738.4482383\ttotal: 2m 2s\tremaining: 1m 36s\n",
      "84:\tlearn: 1732.8540454\ttotal: 2m 3s\tremaining: 1m 34s\n",
      "85:\tlearn: 1727.5723183\ttotal: 2m 5s\tremaining: 1m 33s\n",
      "86:\tlearn: 1722.7302386\ttotal: 2m 7s\tremaining: 1m 32s\n",
      "87:\tlearn: 1717.7677617\ttotal: 2m 8s\tremaining: 1m 30s\n",
      "88:\tlearn: 1713.1056137\ttotal: 2m 10s\tremaining: 1m 29s\n",
      "89:\tlearn: 1708.4849954\ttotal: 2m 11s\tremaining: 1m 27s\n",
      "90:\tlearn: 1704.2696904\ttotal: 2m 13s\tremaining: 1m 26s\n",
      "91:\tlearn: 1700.3564163\ttotal: 2m 14s\tremaining: 1m 25s\n",
      "92:\tlearn: 1696.2969297\ttotal: 2m 16s\tremaining: 1m 23s\n",
      "93:\tlearn: 1692.2436370\ttotal: 2m 18s\tremaining: 1m 22s\n",
      "94:\tlearn: 1688.2328611\ttotal: 2m 19s\tremaining: 1m 20s\n",
      "95:\tlearn: 1684.3081905\ttotal: 2m 21s\tremaining: 1m 19s\n",
      "96:\tlearn: 1680.6873736\ttotal: 2m 22s\tremaining: 1m 17s\n",
      "97:\tlearn: 1676.8831795\ttotal: 2m 24s\tremaining: 1m 16s\n",
      "98:\tlearn: 1673.4425235\ttotal: 2m 25s\tremaining: 1m 14s\n",
      "99:\tlearn: 1670.3438655\ttotal: 2m 27s\tremaining: 1m 13s\n",
      "100:\tlearn: 1666.9745829\ttotal: 2m 28s\tremaining: 1m 12s\n",
      "101:\tlearn: 1661.7108905\ttotal: 2m 30s\tremaining: 1m 10s\n",
      "102:\tlearn: 1656.5319145\ttotal: 2m 31s\tremaining: 1m 9s\n",
      "103:\tlearn: 1651.5020176\ttotal: 2m 33s\tremaining: 1m 7s\n",
      "104:\tlearn: 1646.9066009\ttotal: 2m 34s\tremaining: 1m 6s\n",
      "105:\tlearn: 1642.1731108\ttotal: 2m 36s\tremaining: 1m 4s\n",
      "106:\tlearn: 1637.7361124\ttotal: 2m 38s\tremaining: 1m 3s\n",
      "107:\tlearn: 1633.5128953\ttotal: 2m 39s\tremaining: 1m 2s\n",
      "108:\tlearn: 1629.3477819\ttotal: 2m 41s\tremaining: 1m\n",
      "109:\tlearn: 1625.0832124\ttotal: 2m 42s\tremaining: 59.2s\n",
      "110:\tlearn: 1621.4952539\ttotal: 2m 44s\tremaining: 57.7s\n",
      "111:\tlearn: 1617.4463012\ttotal: 2m 45s\tremaining: 56.3s\n",
      "112:\tlearn: 1613.8250541\ttotal: 2m 47s\tremaining: 54.8s\n",
      "113:\tlearn: 1610.6569699\ttotal: 2m 48s\tremaining: 53.4s\n",
      "114:\tlearn: 1607.1846828\ttotal: 2m 50s\tremaining: 51.9s\n",
      "115:\tlearn: 1603.8283708\ttotal: 2m 51s\tremaining: 50.4s\n",
      "116:\tlearn: 1600.7833319\ttotal: 2m 53s\tremaining: 48.9s\n",
      "117:\tlearn: 1597.8713282\ttotal: 2m 54s\tremaining: 47.4s\n",
      "118:\tlearn: 1595.2755811\ttotal: 2m 56s\tremaining: 46s\n",
      "119:\tlearn: 1592.6619818\ttotal: 2m 57s\tremaining: 44.5s\n",
      "120:\tlearn: 1590.6345923\ttotal: 2m 59s\tremaining: 43s\n",
      "121:\tlearn: 1587.6854078\ttotal: 3m\tremaining: 41.5s\n",
      "122:\tlearn: 1585.2257478\ttotal: 3m 2s\tremaining: 40s\n",
      "123:\tlearn: 1582.8155077\ttotal: 3m 3s\tremaining: 38.6s\n",
      "124:\tlearn: 1580.3534968\ttotal: 3m 5s\tremaining: 37.1s\n",
      "125:\tlearn: 1577.7466951\ttotal: 3m 6s\tremaining: 35.6s\n",
      "126:\tlearn: 1575.1713375\ttotal: 3m 8s\tremaining: 34.2s\n",
      "127:\tlearn: 1573.2864060\ttotal: 3m 10s\tremaining: 32.7s\n",
      "128:\tlearn: 1571.1326495\ttotal: 3m 11s\tremaining: 31.2s\n",
      "129:\tlearn: 1569.2247690\ttotal: 3m 13s\tremaining: 29.7s\n",
      "130:\tlearn: 1567.2020054\ttotal: 3m 14s\tremaining: 28.3s\n",
      "131:\tlearn: 1565.2460466\ttotal: 3m 16s\tremaining: 26.8s\n",
      "132:\tlearn: 1563.2983025\ttotal: 3m 17s\tremaining: 25.3s\n",
      "133:\tlearn: 1561.2094439\ttotal: 3m 19s\tremaining: 23.8s\n",
      "134:\tlearn: 1559.1930216\ttotal: 3m 20s\tremaining: 22.3s\n",
      "135:\tlearn: 1557.7418113\ttotal: 3m 22s\tremaining: 20.8s\n",
      "136:\tlearn: 1555.5058438\ttotal: 3m 24s\tremaining: 19.4s\n",
      "137:\tlearn: 1553.5722061\ttotal: 3m 25s\tremaining: 17.9s\n",
      "138:\tlearn: 1551.6752029\ttotal: 3m 27s\tremaining: 16.4s\n",
      "139:\tlearn: 1549.9732783\ttotal: 3m 28s\tremaining: 14.9s\n",
      "140:\tlearn: 1548.3071527\ttotal: 3m 30s\tremaining: 13.4s\n",
      "141:\tlearn: 1546.9440676\ttotal: 3m 31s\tremaining: 11.9s\n",
      "142:\tlearn: 1545.5505248\ttotal: 3m 33s\tremaining: 10.4s\n",
      "143:\tlearn: 1544.0310103\ttotal: 3m 34s\tremaining: 8.95s\n",
      "144:\tlearn: 1542.2129803\ttotal: 3m 36s\tremaining: 7.46s\n",
      "145:\tlearn: 1540.5270206\ttotal: 3m 37s\tremaining: 5.97s\n",
      "146:\tlearn: 1539.2356070\ttotal: 3m 39s\tremaining: 4.48s\n",
      "147:\tlearn: 1537.4749034\ttotal: 3m 41s\tremaining: 2.99s\n",
      "148:\tlearn: 1535.8605888\ttotal: 3m 42s\tremaining: 1.5s\n",
      "149:\tlearn: 1534.6853530\ttotal: 3m 44s\tremaining: 0us\n",
      "CPU times: user 12min 3s, sys: 2min 8s, total: 14min 11s\n",
      "Wall time: 14min 33s\n"
     ]
    },
    {
     "data": {
      "text/plain": [
       "GridSearchCV(cv=3, error_score='raise-deprecating',\n",
       "             estimator=<catboost.core.CatBoostRegressor object at 0x7f67315d9290>,\n",
       "             iid='warn', n_jobs=-1,\n",
       "             param_grid={'depth': [15], 'iterations': [150]},\n",
       "             pre_dispatch='2*n_jobs', refit=True, return_train_score=False,\n",
       "             scoring=make_scorer(RMSE, greater_is_better=False), verbose=100)"
      ]
     },
     "execution_count": 84,
     "metadata": {},
     "output_type": "execute_result"
    }
   ],
   "source": [
    "%%time\n",
    "parameters_grid = {'iterations': [150],\n",
    "                'depth': [15]}\n",
    "Cat_GridSearch = GridSearchCV(estimator = CatBoostRegressor(random_state=12345), \n",
    "                              param_grid =parameters_grid , cv=3, verbose=100, n_jobs=-1, \n",
    "                              scoring = my_scorer)\n",
    "Cat_GridSearch.fit(features_train, target_train, cat_features = cat_features)"
   ]
  },
  {
   "cell_type": "code",
   "execution_count": 85,
   "metadata": {},
   "outputs": [
    {
     "data": {
      "text/plain": [
       "-1620.3001534241655"
      ]
     },
     "execution_count": 85,
     "metadata": {},
     "output_type": "execute_result"
    }
   ],
   "source": [
    "Cat_GridSearch.best_score_"
   ]
  },
  {
   "cell_type": "code",
   "execution_count": 86,
   "metadata": {},
   "outputs": [
    {
     "data": {
      "text/plain": [
       "{'depth': 15, 'iterations': 150}"
      ]
     },
     "execution_count": 86,
     "metadata": {},
     "output_type": "execute_result"
    }
   ],
   "source": [
    "Cat_GridSearch.best_params_"
   ]
  },
  {
   "cell_type": "code",
   "execution_count": 87,
   "metadata": {
    "scrolled": true
   },
   "outputs": [
    {
     "name": "stdout",
     "output_type": "stream",
     "text": [
      "CPU times: user 218 ms, sys: 8.11 ms, total: 226 ms\n",
      "Wall time: 176 ms\n"
     ]
    },
    {
     "data": {
      "text/plain": [
       "array([ 3964.02823918, 16282.28350345,   898.27693468, ...,\n",
       "        2812.85418666,   808.27073949,  5151.08040596])"
      ]
     },
     "execution_count": 87,
     "metadata": {},
     "output_type": "execute_result"
    }
   ],
   "source": [
    "%%time\n",
    "Cat_GridSearch.predict(features_test)"
   ]
  },
  {
   "cell_type": "markdown",
   "metadata": {},
   "source": [
    "# 3. Анализ моделей"
   ]
  },
  {
   "cell_type": "markdown",
   "metadata": {},
   "source": [
    "#### Проанализируем скорость работы и качество моделей."
   ]
  },
  {
   "cell_type": "code",
   "execution_count": 88,
   "metadata": {},
   "outputs": [],
   "source": [
    "summary = http://localhost:8888/notebooks/Desktop/%D0%AF%D0%BD%D0%B4%D0%B5%D0%BA%D1%81%20%D0%9F%D1%80%D0%B0%D0%BA%D1%82%D0%B8%D0%BA%D1%83%D0%BC/%D0%9F%D1%80%D0%BE%D0%B5%D0%BA%D1%82%D1%8B/%D0%BF%D1%80%D0%BE%D0%B5%D0%BA%D1%82%20%D0%BF%D1%80%D0%BE%20%D1%82%D0%B0%D1%87%D0%BA%D0%B8%20%D1%84%D0%B8%D0%BD%D0%B0%D0%BB%20%D1%80%D0%B5%D0%B2%D1%8C%D1%8E.ipynb#%D0%9F%D1%80%D0%BE%D0%B0%D0%BD%D0%B0%D0%BB%D0%B8%D0%B7%D0%B8%D1%80%D1%83%D0%B5%D0%BC-%D1%81%D0%BA%D0%BE%D1%80%D0%BE%D1%81%D1%82%D1%8C-%D1%80%D0%B0%D0%B1%D0%BE%D1%82%D1%8B-%D0%B8-%D0%BA%D0%B0%D1%87%D0%B5%D1%81%D1%82%D0%B2%D0%BE-%D0%BC%D0%BE%D0%B4%D0%B5%D0%BB%D0%B5%D0%B9.pd.DataFrame(index=['XGBoost', 'LightGBM', 'CatBoost'])\n",
    "summhttp://localhost:8888/notebooks/Desktop/%D0%AF%D0%BD%D0%B4%D0%B5%D0%BA%D1%81%20%D0%9F%D1%80%D0%B0%D0%BA%D1%82%D0%B8%D0%BA%D1%83%D0%BC/%D0%9F%D1%80%D0%BE%D0%B5%D0%BA%D1%82%D1%8B/%D0%BF%D1%80%D0%BE%D0%B5%D0%BA%D1%82%20%D0%BF%D1%80%D0%BE%20%D1%82%D0%B0%D1%87%D0%BA%D0%B8%20%D1%84%D0%B8%D0%BD%D0%B0%D0%BB%20%D1%80%D0%B5%D0%B2%D1%8C%D1%8E.ipynb#%D0%9F%D1%80%D0%BE%D0%B0%D0%BD%D0%B0%D0%BB%D0%B8%D0%B7%D0%B8%D1%80%D1%83%D0%B5%D0%BC-%D1%81%D0%BA%D0%BE%D1%80%D0%BE%D1%81%D1%82%D1%8C-%D1%80%D0%B0%D0%B1%D0%BE%D1%82%D1%8B-%D0%B8-%D0%BA%D0%B0%D1%87%D0%B5%D1%81%D1%82%D0%B2%D0%BE-%D0%BC%D0%BE%D0%B4%D0%B5%D0%BB%D0%B5%D0%B9.ary['best_score_RMSE'] = [XGBoost_GridSearch.best_score_, LGBM_GridSearch.best_score_, Cat_GridSearch.best_score_ ]\n",
    "summary['best_params_'] = [XGBoost_GridSearch.best_params_, LGBM_GridSearch.best_params_, Cat_GridSearch.best_params_]\n",
    "summary['predict_time, s'] = [0.862, 1.22, 0.218]\n",
    "summary['fit_time'] = ['11min 19s', '13.7 s', '14min 33s']"
   ]
  },
  {
   "cell_type": "code",
   "execution_count": 89,
   "metadata": {},
   "outputs": [
    {
     "data": {
      "text/html": [
       "<div>\n",
       "<style scoped>\n",
       "    .dataframe tbody tr th:only-of-type {\n",
       "        vertical-align: middle;\n",
       "    }\n",
       "\n",
       "    .dataframe tbody tr th {\n",
       "        vertical-align: top;\n",
       "    }\n",
       "\n",
       "    .dataframe thead th {\n",
       "        text-align: right;\n",
       "    }\n",
       "</style>\n",
       "<table border=\"1\" class=\"dataframe\">\n",
       "  <thead>\n",
       "    <tr style=\"text-align: right;\">\n",
       "      <th></th>\n",
       "      <th>best_score_RMSE</th>\n",
       "      <th>best_params_</th>\n",
       "      <th>predict_time, s</th>\n",
       "      <th>fit_time</th>\n",
       "    </tr>\n",
       "  </thead>\n",
       "  <tbody>\n",
       "    <tr>\n",
       "      <td>XGBoost</td>\n",
       "      <td>-1760.275587</td>\n",
       "      <td>{'n_estimators': 150}</td>\n",
       "      <td>0.862</td>\n",
       "      <td>11min 19s</td>\n",
       "    </tr>\n",
       "    <tr>\n",
       "      <td>LightGBM</td>\n",
       "      <td>-1501.821855</td>\n",
       "      <td>{'num_leaves': 127, 'reg_alpha': 0.1}</td>\n",
       "      <td>1.220</td>\n",
       "      <td>13.7 s</td>\n",
       "    </tr>\n",
       "    <tr>\n",
       "      <td>CatBoost</td>\n",
       "      <td>-1620.300153</td>\n",
       "      <td>{'depth': 15, 'iterations': 150}</td>\n",
       "      <td>0.218</td>\n",
       "      <td>14min 33s</td>\n",
       "    </tr>\n",
       "  </tbody>\n",
       "</table>\n",
       "</div>"
      ],
      "text/plain": [
       "          best_score_RMSE                           best_params_  \\\n",
       "XGBoost      -1760.275587                  {'n_estimators': 150}   \n",
       "LightGBM     -1501.821855  {'num_leaves': 127, 'reg_alpha': 0.1}   \n",
       "CatBoost     -1620.300153       {'depth': 15, 'iterations': 150}   \n",
       "\n",
       "          predict_time, s   fit_time  \n",
       "XGBoost             0.862  11min 19s  \n",
       "LightGBM            1.220     13.7 s  \n",
       "CatBoost            0.218  14min 33s  "
      ]
     },
     "execution_count": 89,
     "metadata": {},
     "output_type": "execute_result"
    }
   ],
   "source": [
    "summary"
   ]
  },
  {
   "cell_type": "markdown",
   "metadata": {},
   "source": [
    "На обучающей выборке самое лучшее качество получилось у LightGBM. Самое быстрое время предсказания у CatBoost причем намного, самое быстрое время обучения у LightGBM. \n",
    "\n",
    "Если нам важнее время предсказания, т.к. приложение должно быстро выдавать рыночную стоимость автомобиля, а разница в качестве LightGBM и CatBoost\tне такая и большая, то выберем CatBoost."
   ]
  },
  {
   "cell_type": "markdown",
   "metadata": {},
   "source": [
    "#### Проверим CatBoost на тестовой выборке."
   ]
  },
  {
   "cell_type": "code",
   "execution_count": 90,
   "metadata": {},
   "outputs": [
    {
     "data": {
      "text/plain": [
       "1607.7912041984655"
      ]
     },
     "execution_count": 90,
     "metadata": {},
     "output_type": "execute_result"
    }
   ],
   "source": [
    "mean_squared_error(target_test, Cat_GridSearch.predict(features_test))**0.5"
   ]
  },
  {
   "cell_type": "markdown",
   "metadata": {},
   "source": [
    "Требуемое качество достигнуто."
   ]
  },
  {
   "cell_type": "markdown",
   "metadata": {},
   "source": [
    "##### Сравним с базовой моделью - моделью, которая всегда предсказывает медианное значение."
   ]
  },
  {
   "cell_type": "code",
   "execution_count": 100,
   "metadata": {},
   "outputs": [
    {
     "data": {
      "text/plain": [
       "count    182316.000000\n",
       "mean       5001.126319\n",
       "std        4628.908774\n",
       "min          24.000000\n",
       "25%        1450.000000\n",
       "50%        3390.000000\n",
       "75%        7200.000000\n",
       "max       20000.000000\n",
       "Name: price, dtype: float64"
      ]
     },
     "execution_count": 100,
     "metadata": {},
     "output_type": "execute_result"
    }
   ],
   "source": [
    "target_train.describe()"
   ]
  },
  {
   "cell_type": "markdown",
   "metadata": {},
   "source": [
    "Посчитаем RMSE:"
   ]
  },
  {
   "cell_type": "code",
   "execution_count": 101,
   "metadata": {},
   "outputs": [
    {
     "data": {
      "text/plain": [
       "4904.941760283519"
      ]
     },
     "execution_count": 101,
     "metadata": {},
     "output_type": "execute_result"
    }
   ],
   "source": [
    "(mean_squared_error(target_test, pd.Series(target_train.median(), index=target_test.index)))**0.5"
   ]
  },
  {
   "cell_type": "markdown",
   "metadata": {},
   "source": [
    "CatBoost намного лучше."
   ]
  },
  {
   "cell_type": "markdown",
   "metadata": {},
   "source": [
    "# Вывод.\n",
    "\n",
    "Задачей данного проекта было создание модели для предсказания стоимости автомобиля. Была проведена работа по предобработке и анализу исходных данных. Были построены и обучены следующие модели машинного обучения: XGBoost, LightGBM, CatBoost с применением перебора параметров по сетке с помощью GridSearchCV. В качестве метрики качества выбрана RMSE. Моделью с лучшей метрикой качества оказалась CatBoost. Также модель CatBoost сравнивалась с базовой модельй и показала лучший результат предсказания стоимости автомобиля."
   ]
  },
  {
   "cell_type": "code",
   "execution_count": null,
   "metadata": {},
   "outputs": [],
   "source": []
  }
 ],
 "metadata": {
  "kernelspec": {
   "display_name": "Python 3",
   "language": "python",
   "name": "python3"
  },
  "language_info": {
   "codemirror_mode": {
    "name": "ipython",
    "version": 3
   },
   "file_extension": ".py",
   "mimetype": "text/x-python",
   "name": "python",
   "nbconvert_exporter": "python",
   "pygments_lexer": "ipython3",
   "version": "3.7.6"
  }
 },
 "nbformat": 4,
 "nbformat_minor": 2
}
